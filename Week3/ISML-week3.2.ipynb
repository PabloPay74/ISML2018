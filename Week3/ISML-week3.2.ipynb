{
 "cells": [
  {
   "cell_type": "markdown",
   "metadata": {},
   "source": [
    "[![alt-text](img/LP-School-Of-AI-black.png)](https://www.facebook.com/groups/1204328906374103/)"
   ]
  },
  {
   "cell_type": "markdown",
   "metadata": {},
   "source": [
    "# Introducción a Statistical Machine Learning\n",
    "## Semana III: Regresión Lineal y Regularización \n",
    "por: [Marco Antonio Vino](https://www.linkedin.com/in/mavino)\n",
    "### 3.1 Regresión lineal"
   ]
  },
  {
   "cell_type": "code",
   "execution_count": 1,
   "metadata": {},
   "outputs": [],
   "source": [
    "import numpy as np\n",
    "import pandas as pd\n",
    "import matplotlib.pyplot as plt\n",
    "# from google.colab  import files  #Si estás haciendo correr este notebook desde google colab, descomenta esta línea para poder subir archivos de bases de datos "
   ]
  },
  {
   "cell_type": "markdown",
   "metadata": {},
   "source": [
    "Recordemos el planteamiento general del modelo"
   ]
  },
  {
   "cell_type": "markdown",
   "metadata": {},
   "source": [
    "$$ y_i = \\theta_0 + \\theta_1x_{1i} + \\theta_2x_{2i} + ... + \\theta_kx_{ki} + \\epsilon_i $$"
   ]
  },
  {
   "cell_type": "markdown",
   "metadata": {},
   "source": [
    "Donde un primer caso particular (k=1) será:"
   ]
  },
  {
   "cell_type": "markdown",
   "metadata": {},
   "source": [
    "$$ y_i = \\theta_0 + \\theta_1 x_i + \\epsilon_i$$\n"
   ]
  },
  {
   "cell_type": "markdown",
   "metadata": {},
   "source": [
    "Habíamos encontrado que la solución analítica del problema era:"
   ]
  },
  {
   "cell_type": "markdown",
   "metadata": {},
   "source": [
    "$$\\theta_0^* = \\bar{y} - \\theta_1 \\bar{x}$$"
   ]
  },
  {
   "cell_type": "markdown",
   "metadata": {},
   "source": [
    "$$\\theta_1^* = \\frac{\\sum x_i y_i - \\bar{y}\\sum x_i}{\\sum x_i^2 - \\bar{x} \\sum{x_i}}$$"
   ]
  },
  {
   "cell_type": "code",
   "execution_count": 2,
   "metadata": {},
   "outputs": [],
   "source": [
    "def reg_lin(X,Y):\n",
    "    y_prom = sum(Y)/len(Y)\n",
    "    x_prom = sum(X)/len(X)\n",
    "    sum_xy = sum(X*Y)\n",
    "    sum_x = sum(X)\n",
    "    sum_x2 = sum(X**2)\n",
    "    theta1 = (sum_xy - y_prom*sum_x)/(sum_x2-x_prom*sum_x)\n",
    "    theta0 = y_prom - theta1*x_prom\n",
    "    return theta0, theta1"
   ]
  },
  {
   "cell_type": "markdown",
   "metadata": {},
   "source": [
    "### Leyendo la base de datos "
   ]
  },
  {
   "cell_type": "code",
   "execution_count": 3,
   "metadata": {},
   "outputs": [],
   "source": [
    "## Si estás usando google colab antes de ejecutar la siguiente celda, \n",
    "# sube el archivo de la base de datos con el comando: \n",
    "# files.upload()\n",
    "# (asegurate de importar la libreria files de google.colab)"
   ]
  },
  {
   "cell_type": "code",
   "execution_count": 4,
   "metadata": {},
   "outputs": [],
   "source": [
    "ex1 = pd.read_csv(\"ejemplo1.csv\",index_col=0)"
   ]
  },
  {
   "cell_type": "code",
   "execution_count": 5,
   "metadata": {},
   "outputs": [
    {
     "data": {
      "text/html": [
       "<div>\n",
       "<style scoped>\n",
       "    .dataframe tbody tr th:only-of-type {\n",
       "        vertical-align: middle;\n",
       "    }\n",
       "\n",
       "    .dataframe tbody tr th {\n",
       "        vertical-align: top;\n",
       "    }\n",
       "\n",
       "    .dataframe thead th {\n",
       "        text-align: right;\n",
       "    }\n",
       "</style>\n",
       "<table border=\"1\" class=\"dataframe\">\n",
       "  <thead>\n",
       "    <tr style=\"text-align: right;\">\n",
       "      <th></th>\n",
       "      <th>X</th>\n",
       "      <th>Y</th>\n",
       "    </tr>\n",
       "  </thead>\n",
       "  <tbody>\n",
       "    <tr>\n",
       "      <th>0</th>\n",
       "      <td>0.0</td>\n",
       "      <td>-1746.365473</td>\n",
       "    </tr>\n",
       "    <tr>\n",
       "      <th>1</th>\n",
       "      <td>1.0</td>\n",
       "      <td>352.780403</td>\n",
       "    </tr>\n",
       "    <tr>\n",
       "      <th>2</th>\n",
       "      <td>2.0</td>\n",
       "      <td>1169.835803</td>\n",
       "    </tr>\n",
       "    <tr>\n",
       "      <th>3</th>\n",
       "      <td>3.0</td>\n",
       "      <td>-228.936037</td>\n",
       "    </tr>\n",
       "    <tr>\n",
       "      <th>4</th>\n",
       "      <td>4.0</td>\n",
       "      <td>1011.520787</td>\n",
       "    </tr>\n",
       "  </tbody>\n",
       "</table>\n",
       "</div>"
      ],
      "text/plain": [
       "     X            Y\n",
       "0  0.0 -1746.365473\n",
       "1  1.0   352.780403\n",
       "2  2.0  1169.835803\n",
       "3  3.0  -228.936037\n",
       "4  4.0  1011.520787"
      ]
     },
     "execution_count": 5,
     "metadata": {},
     "output_type": "execute_result"
    }
   ],
   "source": [
    "ex1.head()\n",
    "#ex1.plot.scatter(\"X\",\"Y\")"
   ]
  },
  {
   "cell_type": "code",
   "execution_count": 6,
   "metadata": {},
   "outputs": [],
   "source": [
    "def smpl(df, n, semilla=123):\n",
    "    np.random.seed(semilla)\n",
    "    sample1 = np.random.choice(np.arange(0,df.shape[0]), size=n, replace=False)\n",
    "    df_test = df.iloc[sample1,:].copy()\n",
    "    df_train = df.drop(sample1).copy()\n",
    "    return df_test, df_train"
   ]
  },
  {
   "cell_type": "code",
   "execution_count": 7,
   "metadata": {},
   "outputs": [],
   "source": [
    "ex1_test, ex1_train = smpl(ex1,1000)"
   ]
  },
  {
   "cell_type": "code",
   "execution_count": 8,
   "metadata": {},
   "outputs": [
    {
     "name": "stdout",
     "output_type": "stream",
     "text": [
      "3.13690275240333 6.704726227821975\n"
     ]
    }
   ],
   "source": [
    "theta0, theta1 = reg_lin(ex1_train[\"X\"], ex1_train[\"Y\"])\n",
    "print(theta0, theta1 )"
   ]
  },
  {
   "cell_type": "code",
   "execution_count": 9,
   "metadata": {
    "scrolled": true
   },
   "outputs": [
    {
     "data": {
      "text/plain": [
       "[<matplotlib.lines.Line2D at 0x7ff535f1f630>]"
      ]
     },
     "execution_count": 9,
     "metadata": {},
     "output_type": "execute_result"
    },
    {
     "data": {
      "image/png": "[encoded data removed]",
      "text/plain": [
       "<Figure size 432x288 with 1 Axes>"
      ]
     },
     "metadata": {},
     "output_type": "display_data"
    }
   ],
   "source": [
    "plt.scatter(ex1_train[\"X\"], ex1_train[\"Y\"])\n",
    "plt.plot(ex1_train[\"X\"], theta0 + theta1*ex1_train[\"X\"], c=\"red\")"
   ]
  },
  {
   "cell_type": "markdown",
   "metadata": {},
   "source": [
    "# Implementación matricial"
   ]
  },
  {
   "cell_type": "markdown",
   "metadata": {},
   "source": [
    "Para obtener los parámetros del modelo con $k$ variables, utilizaremos la implementación matricial."
   ]
  },
  {
   "cell_type": "code",
   "execution_count": 10,
   "metadata": {},
   "outputs": [],
   "source": [
    "ex2 = pd.read_csv(\"ejemplo2.csv\", index_col=0)"
   ]
  },
  {
   "cell_type": "code",
   "execution_count": 11,
   "metadata": {
    "scrolled": true
   },
   "outputs": [
    {
     "data": {
      "text/html": [
       "<div>\n",
       "<style scoped>\n",
       "    .dataframe tbody tr th:only-of-type {\n",
       "        vertical-align: middle;\n",
       "    }\n",
       "\n",
       "    .dataframe tbody tr th {\n",
       "        vertical-align: top;\n",
       "    }\n",
       "\n",
       "    .dataframe thead th {\n",
       "        text-align: right;\n",
       "    }\n",
       "</style>\n",
       "<table border=\"1\" class=\"dataframe\">\n",
       "  <thead>\n",
       "    <tr style=\"text-align: right;\">\n",
       "      <th></th>\n",
       "      <th>Y</th>\n",
       "      <th>X1</th>\n",
       "      <th>X2</th>\n",
       "      <th>X3</th>\n",
       "    </tr>\n",
       "  </thead>\n",
       "  <tbody>\n",
       "    <tr>\n",
       "      <th>0</th>\n",
       "      <td>-6.852697</td>\n",
       "      <td>-60.0</td>\n",
       "      <td>3.60000</td>\n",
       "      <td>-2.160000</td>\n",
       "    </tr>\n",
       "    <tr>\n",
       "      <th>1</th>\n",
       "      <td>-6.887755</td>\n",
       "      <td>-59.7</td>\n",
       "      <td>3.56409</td>\n",
       "      <td>-2.127762</td>\n",
       "    </tr>\n",
       "    <tr>\n",
       "      <th>2</th>\n",
       "      <td>-5.490239</td>\n",
       "      <td>-59.4</td>\n",
       "      <td>3.52836</td>\n",
       "      <td>-2.095846</td>\n",
       "    </tr>\n",
       "    <tr>\n",
       "      <th>3</th>\n",
       "      <td>-6.912853</td>\n",
       "      <td>-59.1</td>\n",
       "      <td>3.49281</td>\n",
       "      <td>-2.064251</td>\n",
       "    </tr>\n",
       "    <tr>\n",
       "      <th>4</th>\n",
       "      <td>-5.121870</td>\n",
       "      <td>-58.8</td>\n",
       "      <td>3.45744</td>\n",
       "      <td>-2.032975</td>\n",
       "    </tr>\n",
       "  </tbody>\n",
       "</table>\n",
       "</div>"
      ],
      "text/plain": [
       "          Y    X1       X2        X3\n",
       "0 -6.852697 -60.0  3.60000 -2.160000\n",
       "1 -6.887755 -59.7  3.56409 -2.127762\n",
       "2 -5.490239 -59.4  3.52836 -2.095846\n",
       "3 -6.912853 -59.1  3.49281 -2.064251\n",
       "4 -5.121870 -58.8  3.45744 -2.032975"
      ]
     },
     "execution_count": 11,
     "metadata": {},
     "output_type": "execute_result"
    }
   ],
   "source": [
    "ex2.head()"
   ]
  },
  {
   "cell_type": "code",
   "execution_count": 12,
   "metadata": {
    "scrolled": true
   },
   "outputs": [
    {
     "data": {
      "text/plain": [
       "<matplotlib.collections.PathCollection at 0x7ff5341492b0>"
      ]
     },
     "execution_count": 12,
     "metadata": {},
     "output_type": "execute_result"
    },
    {
     "data": {
      "image/png": "[encoded data removed]",
      "text/plain": [
       "<Figure size 432x288 with 1 Axes>"
      ]
     },
     "metadata": {},
     "output_type": "display_data"
    }
   ],
   "source": [
    "plt.scatter(ex2[\"X1\"],ex2[\"Y\"])\n",
    "plt.scatter(ex2[\"X2\"],ex2[\"Y\"], c=\"r\")\n",
    "plt.scatter(ex2[\"X3\"],ex2[\"Y\"], c=\"g\")"
   ]
  },
  {
   "cell_type": "code",
   "execution_count": 13,
   "metadata": {
    "scrolled": false
   },
   "outputs": [
    {
     "data": {
      "text/plain": [
       "<mpl_toolkits.mplot3d.art3d.Path3DCollection at 0x7ff53406aef0>"
      ]
     },
     "execution_count": 13,
     "metadata": {},
     "output_type": "execute_result"
    },
    {
     "data": {
      "image/png": "[encoded data removed]",
      "text/plain": [
       "<Figure size 432x288 with 1 Axes>"
      ]
     },
     "metadata": {},
     "output_type": "display_data"
    }
   ],
   "source": [
    "from mpl_toolkits.mplot3d import Axes3D  \n",
    "fig = plt.figure()\n",
    "ax = fig.add_subplot(111, projection='3d')\n",
    "#ax.scatter3D(ex2[\"X1\"],ex2[\"X2\"],ex2[\"Y\"], c = \"r\")\n",
    "ax.scatter3D(ex2[\"X2\"],ex2[\"X3\"],ex2[\"Y\"], c = \"g\")\n",
    "#ax.scatter3D(ex2[\"X1\"],ex2[\"X3\"],ex2[\"Y\"])\n"
   ]
  },
  {
   "cell_type": "markdown",
   "metadata": {},
   "source": [
    "Recordadondo la notación matricial"
   ]
  },
  {
   "cell_type": "markdown",
   "metadata": {},
   "source": [
    "$$ Y = X\\Theta + U $$"
   ]
  },
  {
   "cell_type": "markdown",
   "metadata": {},
   "source": [
    "Donde:"
   ]
  },
  {
   "cell_type": "markdown",
   "metadata": {},
   "source": [
    "$Y$: Es el vector de $y_i$  $(n,1)$  "
   ]
  },
  {
   "cell_type": "markdown",
   "metadata": {},
   "source": [
    "$X$: **Es una matriz  que contiene los valores de las variables para las n observaciones de dimensiones $(n,k+1)$ **"
   ]
  },
  {
   "cell_type": "markdown",
   "metadata": {},
   "source": [
    "$\\Theta$: Es un vector columna que contiene los valores de los parámetros de la función de dimensiones $(k+1,1)$  "
   ]
  },
  {
   "cell_type": "markdown",
   "metadata": {},
   "source": [
    "$U$: Es un vector columna  de los errores para cada observación de los dimensiones $(n,1)$  "
   ]
  },
  {
   "cell_type": "markdown",
   "metadata": {},
   "source": [
    "Solución analítica matricial:"
   ]
  },
  {
   "cell_type": "markdown",
   "metadata": {},
   "source": [
    "$$ \\Theta^* = (X'X)^{-1}X'Y$$"
   ]
  },
  {
   "cell_type": "code",
   "execution_count": 14,
   "metadata": {},
   "outputs": [],
   "source": [
    "def reg_lin_Mat(X,Y):\n",
    "    \"\"\"\n",
    "    X: Matriz de dimensiones (n,k+1) primera columna de 1\n",
    "    Y: Vector de salidas\n",
    "    \"\"\"\n",
    "    return np.linalg.inv(X.T@X)@(X.T@Y)"
   ]
  },
  {
   "cell_type": "code",
   "execution_count": 15,
   "metadata": {},
   "outputs": [
    {
     "data": {
      "text/plain": [
       "0   -6.852697\n",
       "1   -6.887755\n",
       "2   -5.490239\n",
       "3   -6.912853\n",
       "4   -5.121870\n",
       "Name: Y, dtype: float64"
      ]
     },
     "execution_count": 15,
     "metadata": {},
     "output_type": "execute_result"
    }
   ],
   "source": [
    "Y = ex2[\"Y\"]\n",
    "type(Y)\n",
    "Y.head()"
   ]
  },
  {
   "cell_type": "code",
   "execution_count": 16,
   "metadata": {},
   "outputs": [],
   "source": [
    "Y = Y.as_matrix() ## Cambiando el tipo de datos a arrays de numpy"
   ]
  },
  {
   "cell_type": "code",
   "execution_count": 17,
   "metadata": {
    "scrolled": true
   },
   "outputs": [
    {
     "data": {
      "text/html": [
       "<div>\n",
       "<style scoped>\n",
       "    .dataframe tbody tr th:only-of-type {\n",
       "        vertical-align: middle;\n",
       "    }\n",
       "\n",
       "    .dataframe tbody tr th {\n",
       "        vertical-align: top;\n",
       "    }\n",
       "\n",
       "    .dataframe thead th {\n",
       "        text-align: right;\n",
       "    }\n",
       "</style>\n",
       "<table border=\"1\" class=\"dataframe\">\n",
       "  <thead>\n",
       "    <tr style=\"text-align: right;\">\n",
       "      <th></th>\n",
       "      <th>X0</th>\n",
       "      <th>X1</th>\n",
       "      <th>X2</th>\n",
       "      <th>X3</th>\n",
       "    </tr>\n",
       "  </thead>\n",
       "  <tbody>\n",
       "    <tr>\n",
       "      <th>0</th>\n",
       "      <td>1</td>\n",
       "      <td>-60.0</td>\n",
       "      <td>3.60000</td>\n",
       "      <td>-2.160000</td>\n",
       "    </tr>\n",
       "    <tr>\n",
       "      <th>1</th>\n",
       "      <td>1</td>\n",
       "      <td>-59.7</td>\n",
       "      <td>3.56409</td>\n",
       "      <td>-2.127762</td>\n",
       "    </tr>\n",
       "    <tr>\n",
       "      <th>2</th>\n",
       "      <td>1</td>\n",
       "      <td>-59.4</td>\n",
       "      <td>3.52836</td>\n",
       "      <td>-2.095846</td>\n",
       "    </tr>\n",
       "    <tr>\n",
       "      <th>3</th>\n",
       "      <td>1</td>\n",
       "      <td>-59.1</td>\n",
       "      <td>3.49281</td>\n",
       "      <td>-2.064251</td>\n",
       "    </tr>\n",
       "    <tr>\n",
       "      <th>4</th>\n",
       "      <td>1</td>\n",
       "      <td>-58.8</td>\n",
       "      <td>3.45744</td>\n",
       "      <td>-2.032975</td>\n",
       "    </tr>\n",
       "  </tbody>\n",
       "</table>\n",
       "</div>"
      ],
      "text/plain": [
       "   X0    X1       X2        X3\n",
       "0   1 -60.0  3.60000 -2.160000\n",
       "1   1 -59.7  3.56409 -2.127762\n",
       "2   1 -59.4  3.52836 -2.095846\n",
       "3   1 -59.1  3.49281 -2.064251\n",
       "4   1 -58.8  3.45744 -2.032975"
      ]
     },
     "execution_count": 17,
     "metadata": {},
     "output_type": "execute_result"
    }
   ],
   "source": [
    "X = ex2.iloc[:,1:].copy()\n",
    "X.insert(0,\"X0\",1) #index, name, value\n",
    "X.head()"
   ]
  },
  {
   "cell_type": "code",
   "execution_count": 18,
   "metadata": {},
   "outputs": [],
   "source": [
    "X = X.as_matrix()"
   ]
  },
  {
   "cell_type": "code",
   "execution_count": 19,
   "metadata": {},
   "outputs": [
    {
     "data": {
      "text/plain": [
       "array([-0.05656091,  0.0047699 , -0.46871896,  2.08066242])"
      ]
     },
     "execution_count": 19,
     "metadata": {},
     "output_type": "execute_result"
    }
   ],
   "source": [
    "reg_lin_Mat(X,Y)"
   ]
  },
  {
   "cell_type": "code",
   "execution_count": 20,
   "metadata": {
    "scrolled": true
   },
   "outputs": [],
   "source": [
    "Theta = reg_lin_Mat(X,Y)"
   ]
  },
  {
   "cell_type": "code",
   "execution_count": 21,
   "metadata": {},
   "outputs": [],
   "source": [
    "y_hat = X@Theta"
   ]
  },
  {
   "cell_type": "code",
   "execution_count": 22,
   "metadata": {},
   "outputs": [],
   "source": [
    "e = Y - y_hat"
   ]
  },
  {
   "cell_type": "code",
   "execution_count": 23,
   "metadata": {
    "scrolled": true
   },
   "outputs": [
    {
     "data": {
      "text/plain": [
       "[<matplotlib.lines.Line2D at 0x7ff52dffd2b0>]"
      ]
     },
     "execution_count": 23,
     "metadata": {},
     "output_type": "execute_result"
    },
    {
     "data": {
      "image/png": "[encoded data removed]",
      "text/plain": [
       "<Figure size 432x288 with 1 Axes>"
      ]
     },
     "metadata": {},
     "output_type": "display_data"
    }
   ],
   "source": [
    "plt.plot(e)"
   ]
  },
  {
   "cell_type": "markdown",
   "metadata": {},
   "source": [
    " "
   ]
  },
  {
   "cell_type": "markdown",
   "metadata": {},
   "source": [
    " "
   ]
  },
  {
   "cell_type": "markdown",
   "metadata": {},
   "source": [
    " "
   ]
  },
  {
   "cell_type": "markdown",
   "metadata": {},
   "source": [
    "# Solucion iterativa"
   ]
  },
  {
   "cell_type": "markdown",
   "metadata": {},
   "source": [
    "$$\\min_{\\Theta} \\ \\  J(\\Theta) =  \\frac{1}{2N}\\sum_{i=1}^N{[h(x_i)  -y_i]^2 } $$"
   ]
  },
  {
   "cell_type": "markdown",
   "metadata": {},
   "source": [
    "### GRADIENT DESCENT"
   ]
  },
  {
   "cell_type": "markdown",
   "metadata": {},
   "source": [
    "Es un algoritmo de optimización iterativo de primer orden, es decir,considera la cercania de la función a un punto óptimo, en función del valor de su primera derivada.  "
   ]
  },
  {
   "cell_type": "markdown",
   "metadata": {},
   "source": [
    "* Inicializamos los Parámetros de manera aleatoria\n",
    "* Por el número de iteraciones definidas. \n",
    "    * Calculamos el valor del los gradientes\n",
    "    * Actualizamos los parámetros\n"
   ]
  },
  {
   "cell_type": "markdown",
   "metadata": {},
   "source": [
    "### Inicializando el valor de los parámetros de manera aleatoria"
   ]
  },
  {
   "cell_type": "code",
   "execution_count": 24,
   "metadata": {},
   "outputs": [],
   "source": [
    "np.random.seed(2018)\n",
    "Theta_gd = np.random.randn(4)"
   ]
  },
  {
   "cell_type": "code",
   "execution_count": 25,
   "metadata": {
    "scrolled": true
   },
   "outputs": [
    {
     "data": {
      "text/plain": [
       "array([-0.2767676 ,  0.581851  ,  2.14839926, -1.279487  ])"
      ]
     },
     "execution_count": 25,
     "metadata": {},
     "output_type": "execute_result"
    }
   ],
   "source": [
    "Theta_gd"
   ]
  },
  {
   "cell_type": "markdown",
   "metadata": {},
   "source": [
    "### Calculamos la función de costo"
   ]
  },
  {
   "cell_type": "markdown",
   "metadata": {},
   "source": [
    "$$\\min_{\\Theta} \\ \\  J(\\Theta) =  \\frac{1}{2N}\\sum_{i=1}^N{[h(X_i)  -y_i]^2 } $$"
   ]
  },
  {
   "cell_type": "code",
   "execution_count": 26,
   "metadata": {},
   "outputs": [],
   "source": [
    "def costFunc(X,Y,Theta_gd):\n",
    "    \"\"\"\n",
    "    Calcula la función de costo con un Theta dado\n",
    "    y el gradiende de la regresión lineal \n",
    "    \"\"\"\n",
    "    h_x = X@Theta_gd\n",
    "    e2  = np.square(h_x - Y)\n",
    "    J = np.sum(e2)/2*Y.shape[0]\n",
    "    J_grad = (1/Y.shape[0])*(X.T@(h_x-Y))\n",
    "    return J, J_grad"
   ]
  },
  {
   "cell_type": "markdown",
   "metadata": {},
   "source": [
    "Obtenemos el gradiente:"
   ]
  },
  {
   "cell_type": "markdown",
   "metadata": {},
   "source": [
    "$$\\frac{\\partial J}{\\partial \\theta_0} = \\frac{1}{N}\\sum{(h(X_i) - y_i)}$$"
   ]
  },
  {
   "cell_type": "markdown",
   "metadata": {},
   "source": [
    "$$\\frac{\\partial J}{\\partial \\theta_1} = \\frac{1}{N}\\sum{(h(X_i) - y_i)}(x_{1i})$$"
   ]
  },
  {
   "cell_type": "markdown",
   "metadata": {},
   "source": [
    "$$ \\vdots$$"
   ]
  },
  {
   "cell_type": "markdown",
   "metadata": {},
   "source": [
    "$$\\frac{\\partial J}{\\partial \\theta_k} = \\frac{1}{N}\\sum{(h(X_i) - y_i)}(x_{ki})$$"
   ]
  },
  {
   "cell_type": "markdown",
   "metadata": {},
   "source": [
    "Matricialmente\n",
    "$$ \\nabla J = \\frac{1}{N}X'(X\\Theta - Y) $$"
   ]
  },
  {
   "cell_type": "code",
   "execution_count": 27,
   "metadata": {},
   "outputs": [
    {
     "data": {
      "text/plain": [
       "array([  2.85195708, 604.02706821,   6.27329926,  12.66909429])"
      ]
     },
     "execution_count": 27,
     "metadata": {},
     "output_type": "execute_result"
    }
   ],
   "source": [
    "J , J_grad = costFunc(X,Y,Theta_gd)\n",
    "J_grad"
   ]
  },
  {
   "cell_type": "markdown",
   "metadata": {},
   "source": [
    "### Regla de ACTUALIZACIÓN DE LOS PARÁMETROS"
   ]
  },
  {
   "cell_type": "markdown",
   "metadata": {},
   "source": [
    "$$ \\theta_i := \\theta_i - \\alpha \\frac{\\partial J}{\\partial \\theta_i}$$"
   ]
  },
  {
   "cell_type": "code",
   "execution_count": 28,
   "metadata": {},
   "outputs": [],
   "source": [
    "def act_Theta(Theta,J_grad, alpha = 0.01):\n",
    "    return Theta - alpha*J_grad"
   ]
  },
  {
   "cell_type": "code",
   "execution_count": 29,
   "metadata": {},
   "outputs": [
    {
     "name": "stdout",
     "output_type": "stream",
     "text": [
      "[-0.2767676   0.581851    2.14839926 -1.279487  ]\n",
      "[-0.08508048 -6.03550079 -0.53145195  1.95397148]\n"
     ]
    }
   ],
   "source": [
    "print(Theta_gd)\n",
    "print(act_Theta(Theta,J_grad))"
   ]
  },
  {
   "cell_type": "markdown",
   "metadata": {},
   "source": [
    " Uniendo las partes:"
   ]
  },
  {
   "cell_type": "code",
   "execution_count": 30,
   "metadata": {},
   "outputs": [],
   "source": [
    "def gradientDescent(X,Y,Theta_gd,alpha=0.01,iteraciones=100):\n",
    "    histJ = []\n",
    "    J , J_grad = costFunc(X,Y,Theta_gd)\n",
    "    histJ.append(J)\n",
    "    for i in range(1,iteraciones+1):\n",
    "        Theta_gd = act_Theta(Theta_gd,J_grad,alpha=alpha)\n",
    "        J , J_grad = costFunc(X,Y,Theta_gd)\n",
    "        histJ.append(J)\n",
    "        if i%500 ==0:\n",
    "            print(\"Función de costo en la iteración \", i, \": \",round(J,2))\n",
    "    return Theta_gd , histJ"
   ]
  },
  {
   "cell_type": "code",
   "execution_count": 31,
   "metadata": {
    "scrolled": true
   },
   "outputs": [
    {
     "name": "stdout",
     "output_type": "stream",
     "text": [
      "Función de costo en la iteración  500 :  1409020.96\n",
      "Función de costo en la iteración  1000 :  1369569.86\n"
     ]
    },
    {
     "data": {
      "text/plain": [
       "[<matplotlib.lines.Line2D at 0x7ff52df76278>]"
      ]
     },
     "execution_count": 31,
     "metadata": {},
     "output_type": "execute_result"
    },
    {
     "data": {
      "image/png": "[encoded data removed]",
      "text/plain": [
       "<Figure size 432x288 with 1 Axes>"
      ]
     },
     "metadata": {},
     "output_type": "display_data"
    }
   ],
   "source": [
    "Theta_opt , hist_J = gradientDescent(X,Y,Theta_gd, alpha=0.00001, iteraciones=10**3)\n",
    "plt.plot(hist_J)"
   ]
  },
  {
   "cell_type": "markdown",
   "metadata": {},
   "source": [
    "#### ¿Qué tan cerca estamos de nuestro objetivo?"
   ]
  },
  {
   "cell_type": "code",
   "execution_count": 32,
   "metadata": {
    "scrolled": true
   },
   "outputs": [
    {
     "name": "stdout",
     "output_type": "stream",
     "text": [
      "[-0.30544979  0.07863423  2.08417996 -1.2865683 ]\n"
     ]
    },
    {
     "data": {
      "text/plain": [
       "array([-0.05656091,  0.0047699 , -0.46871896,  2.08066242])"
      ]
     },
     "execution_count": 32,
     "metadata": {},
     "output_type": "execute_result"
    }
   ],
   "source": [
    "print(Theta_opt)\n",
    "reg_lin_Mat(X,Y)"
   ]
  },
  {
   "cell_type": "markdown",
   "metadata": {},
   "source": [
    "### Learning Rate y número de iteraciones"
   ]
  },
  {
   "cell_type": "markdown",
   "metadata": {},
   "source": [
    "![alt-text](img/gradiendescent.jpg)"
   ]
  },
  {
   "cell_type": "code",
   "execution_count": 33,
   "metadata": {
    "scrolled": true
   },
   "outputs": [
    {
     "name": "stdout",
     "output_type": "stream",
     "text": [
      "Función de costo en la iteración  500 :  nan\n",
      "Función de costo en la iteración  1000 :  nan\n"
     ]
    },
    {
     "name": "stderr",
     "output_type": "stream",
     "text": [
      "/usr/local/lib/python3.6/dist-packages/ipykernel_launcher.py:8: RuntimeWarning: overflow encountered in double_scalars\n",
      "  \n",
      "/home/marco/.local/lib/python3.6/site-packages/numpy/core/_methods.py:32: RuntimeWarning: overflow encountered in reduce\n",
      "  return umr_sum(a, axis, dtype, out, keepdims)\n",
      "/usr/local/lib/python3.6/dist-packages/ipykernel_launcher.py:7: RuntimeWarning: overflow encountered in square\n",
      "  import sys\n",
      "/usr/local/lib/python3.6/dist-packages/ipykernel_launcher.py:2: RuntimeWarning: invalid value encountered in subtract\n",
      "  \n"
     ]
    },
    {
     "name": "stdout",
     "output_type": "stream",
     "text": [
      "[nan nan nan nan]\n",
      "[-0.05656091  0.0047699  -0.46871896  2.08066242]\n"
     ]
    },
    {
     "data": {
      "image/png": "[encoded data removed]",
      "text/plain": [
       "<Figure size 432x288 with 1 Axes>"
      ]
     },
     "metadata": {},
     "output_type": "display_data"
    }
   ],
   "source": [
    "Theta_opt , hist_J = gradientDescent(X,Y,Theta_gd, alpha=0.01, iteraciones=10**3)\n",
    "plt.plot(hist_J)\n",
    "print(Theta_opt)\n",
    "print(reg_lin_Mat(X,Y))"
   ]
  },
  {
   "cell_type": "code",
   "execution_count": 34,
   "metadata": {},
   "outputs": [
    {
     "name": "stdout",
     "output_type": "stream",
     "text": [
      "[-0.30550155  0.07863136  2.08408158 -1.28656788]\n",
      "[-0.05656091  0.0047699  -0.46871896  2.08066242]\n"
     ]
    },
    {
     "data": {
      "image/png": "[encoded data removed]",
      "text/plain": [
       "<Figure size 432x288 with 1 Axes>"
      ]
     },
     "metadata": {},
     "output_type": "display_data"
    }
   ],
   "source": [
    "Theta_opt , hist_J = gradientDescent(X,Y,Theta_gd, alpha=0.001, iteraciones=10**1)\n",
    "plt.plot(hist_J)\n",
    "print(Theta_opt)\n",
    "print(reg_lin_Mat(X,Y))"
   ]
  },
  {
   "cell_type": "code",
   "execution_count": 35,
   "metadata": {},
   "outputs": [
    {
     "data": {
      "text/plain": [
       "(28095.224873956373,\n",
       " array([-5.32907052e-16,  2.84217094e-16, -1.42108547e-15, -5.99520433e-16]))"
      ]
     },
     "execution_count": 35,
     "metadata": {},
     "output_type": "execute_result"
    }
   ],
   "source": [
    "costFunc(X,Y,reg_lin_Mat(X,Y)) # La funcion de costo con los parámetros óptimos"
   ]
  },
  {
   "cell_type": "markdown",
   "metadata": {},
   "source": [
    "## OVERFITTING"
   ]
  },
  {
   "cell_type": "markdown",
   "metadata": {},
   "source": [
    "![alt-text](img/overfitting.png)"
   ]
  },
  {
   "cell_type": "markdown",
   "metadata": {},
   "source": [
    "Los métodos a través de los cuales podemos intentar solucionarlo, son llamdados MÉTODOS DE REGULARIZACIÓN"
   ]
  },
  {
   "cell_type": "markdown",
   "metadata": {},
   "source": [
    "![alt-text](img/overfitting.jpg)"
   ]
  },
  {
   "cell_type": "code",
   "execution_count": 36,
   "metadata": {},
   "outputs": [],
   "source": [
    "def gradientDescent_test(X,Y,Theta_gd,alpha=0.01,iteraciones=100):\n",
    "    histJ,histT = [],[]\n",
    "    J , J_grad = costFunc(X,Y,Theta_gd)\n",
    "    histJ.append(J)\n",
    "    for i in range(1,iteraciones+1):\n",
    "        Theta_gd = act_Theta(Theta_gd,J_grad,alpha=alpha)\n",
    "        histT.append(Theta_gd)\n",
    "        J , J_grad = costFunc(X,Y,Theta_gd)\n",
    "        histJ.append(J)\n",
    "        if i%500 ==0:\n",
    "            print(\"Función de costo en la iteración \", i, \": \",round(J,2))\n",
    "    return Theta_gd , histJ, histT"
   ]
  },
  {
   "cell_type": "markdown",
   "metadata": {},
   "source": [
    "#### Regularazación L1\n",
    "Valor Absoluto"
   ]
  },
  {
   "cell_type": "markdown",
   "metadata": {},
   "source": [
    "$$\\min_{\\Theta} \\ \\  J(\\Theta) =  \\frac{1}{2N}[\\sum_{i=1}^N{[h(X_i)  -y_i]^2 + \\lambda\\sum_{j=1}\n",
    "^k |\\theta_j| } ]$$"
   ]
  },
  {
   "cell_type": "markdown",
   "metadata": {},
   "source": [
    "* Modificamos ligeramente nuestra función objetivo, con el fin de **PENALIZAR** que los parámetros tomen un valor grande\n",
    "* No penalizamos el valor de j=0 ¿Por qué?\n",
    "* Parsimonia en el modelo"
   ]
  },
  {
   "cell_type": "markdown",
   "metadata": {},
   "source": [
    "Obtenemos el gradiente:"
   ]
  },
  {
   "cell_type": "markdown",
   "metadata": {},
   "source": [
    "$$\\frac{\\partial J}{\\partial \\theta_0} = \\frac{1}{N}\\sum{(h(X_i) - y_i)}$$"
   ]
  },
  {
   "cell_type": "markdown",
   "metadata": {},
   "source": [
    "$$\\frac{\\partial J}{\\partial \\theta_1} = \\frac{1}{N}\\sum{(h(X_i) - y_i)}(x_{1i}) + \\frac{\\lambda}{2N} \\frac{\\theta_1}{|\\theta_1|}$$"
   ]
  },
  {
   "cell_type": "markdown",
   "metadata": {},
   "source": [
    "$$ \\vdots$$"
   ]
  },
  {
   "cell_type": "markdown",
   "metadata": {},
   "source": [
    "$$\\frac{\\partial J}{\\partial \\theta_k} = \\frac{1}{N}\\sum{(h(X_i) - y_i)}(x_{ki}) + \\frac{\\lambda}{2N} \\frac{\\theta_k}{|\\theta_k|}$$"
   ]
  },
  {
   "cell_type": "markdown",
   "metadata": {},
   "source": [
    "Matricialmente\n",
    "$$ \\nabla J = \\frac{1}{N}X'(X\\Theta - Y) + \\vec{\\frac{\\lambda}{2N}} $$"
   ]
  },
  {
   "cell_type": "code",
   "execution_count": 37,
   "metadata": {},
   "outputs": [],
   "source": [
    "def costFunc_L1(X,Y,Theta_gd, lam= 10):\n",
    "    \"\"\"\n",
    "    Calcula la función de costo con un Theta dado\n",
    "    y el gradiende de la regresión lineal \n",
    "    \"\"\"\n",
    "    J = (1/2*Y.shape[0])*((X@Theta_gd - Y).T@(X@Theta_gd - Y))\n",
    "    J_grad = (1/Y.shape[0])*(X.T@(X@Theta_gd-Y)) + (lam/(2*Y.shape[0]))*(Theta_gd/abs(Theta_gd))\n",
    "    return J, J_grad"
   ]
  },
  {
   "cell_type": "code",
   "execution_count": 38,
   "metadata": {},
   "outputs": [
    {
     "data": {
      "text/plain": [
       "(25771495.568508323,\n",
       " array([  2.83945708, 604.03956821,   6.28579926,  12.65659429]))"
      ]
     },
     "execution_count": 38,
     "metadata": {},
     "output_type": "execute_result"
    }
   ],
   "source": [
    "costFunc_L1(X,Y,Theta_gd)"
   ]
  },
  {
   "cell_type": "code",
   "execution_count": 39,
   "metadata": {
    "scrolled": true
   },
   "outputs": [
    {
     "data": {
      "text/plain": [
       "(25771495.568508323,\n",
       " array([  2.85195708, 604.02706821,   6.27329926,  12.66909429]))"
      ]
     },
     "execution_count": 39,
     "metadata": {},
     "output_type": "execute_result"
    }
   ],
   "source": [
    "costFunc(X,Y,Theta_gd)"
   ]
  },
  {
   "cell_type": "code",
   "execution_count": 40,
   "metadata": {},
   "outputs": [],
   "source": [
    "def gradientDescent_L1(X,Y,Theta_gd,alpha=0.01,iteraciones=100, lam=100):\n",
    "    histJ, histT = [],[]\n",
    "    J , J_grad = costFunc(X,Y,Theta_gd)\n",
    "    histJ.append(J)\n",
    "    for i in range(1,iteraciones+1):\n",
    "        Theta_gd = act_Theta(Theta_gd,J_grad,alpha=alpha)\n",
    "        histT.append(Theta_gd)\n",
    "        J , J_grad = costFunc_L1(X,Y,Theta_gd,lam=lam)\n",
    "        histJ.append(J)\n",
    "        if i%500 ==0:\n",
    "            print(\"Función de costo en la iteración \", i, \": \",round(J,2))\n",
    "    return Theta_gd , histJ, histT"
   ]
  },
  {
   "cell_type": "code",
   "execution_count": 41,
   "metadata": {},
   "outputs": [
    {
     "name": "stdout",
     "output_type": "stream",
     "text": [
      "[-0.30550155  0.07863136  2.08408158 -1.28656788]\n",
      "[ 0.07262887  0.21251809  0.96802077 -0.16188435]\n",
      "[-0.05656091  0.0047699  -0.46871896  2.08066242]\n"
     ]
    },
    {
     "data": {
      "image/png": "[encoded data removed]",
      "text/plain": [
       "<Figure size 432x288 with 1 Axes>"
      ]
     },
     "metadata": {},
     "output_type": "display_data"
    }
   ],
   "source": [
    "Theta_opt , hist_J , histT = gradientDescent_test(X,Y,Theta_gd, alpha=0.001, iteraciones=10**1)\n",
    "Theta_opt_L1 , hist_J_L1 , histT_L1= gradientDescent_L1(X,Y,Theta_gd, alpha=0.001, iteraciones=10**1, lam= 10**5)\n",
    "plt.plot(hist_J, c=\"blue\")\n",
    "plt.plot(hist_J_L1, c=\"green\")\n",
    "print(Theta_opt)\n",
    "print(Theta_opt_L1)\n",
    "print(reg_lin_Mat(X,Y))"
   ]
  },
  {
   "cell_type": "code",
   "execution_count": 42,
   "metadata": {},
   "outputs": [
    {
     "data": {
      "text/plain": [
       "[<matplotlib.lines.Line2D at 0x7ff52de2ae48>,\n",
       " <matplotlib.lines.Line2D at 0x7ff52de092b0>,\n",
       " <matplotlib.lines.Line2D at 0x7ff52de09588>,\n",
       " <matplotlib.lines.Line2D at 0x7ff52de6bf98>]"
      ]
     },
     "execution_count": 42,
     "metadata": {},
     "output_type": "execute_result"
    },
    {
     "data": {
      "image/png": "[encoded data removed]",
      "text/plain": [
       "<Figure size 432x288 with 1 Axes>"
      ]
     },
     "metadata": {},
     "output_type": "display_data"
    }
   ],
   "source": [
    "plt.plot(histT , c=\"g\")\n",
    "plt.plot(histT_L1, c = \"b\")"
   ]
  },
  {
   "cell_type": "markdown",
   "metadata": {},
   "source": [
    "### Todos los demás elementos del modelo siguen funcionando de la misma manera\n"
   ]
  },
  {
   "cell_type": "markdown",
   "metadata": {},
   "source": [
    " "
   ]
  },
  {
   "cell_type": "markdown",
   "metadata": {},
   "source": [
    "\n",
    "#### Regularazación L2\n",
    "Cuadrados"
   ]
  },
  {
   "cell_type": "markdown",
   "metadata": {},
   "source": [
    "$$\\min_{\\Theta} \\ \\  J(\\Theta) =  \\frac{1}{2N}[\\sum_{i=1}^N{[h(x_i)  -y_i]^2 + \\lambda\\sum_{j=1}\n",
    "^k \\theta_j^2 } ]$$"
   ]
  },
  {
   "cell_type": "markdown",
   "metadata": {},
   "source": [
    "Obtenemos el gradiente:"
   ]
  },
  {
   "cell_type": "markdown",
   "metadata": {},
   "source": [
    "$$\\frac{\\partial J}{\\partial \\theta_0} = \\frac{1}{N}\\sum{(h(X_i) - y_i)}$$"
   ]
  },
  {
   "cell_type": "markdown",
   "metadata": {},
   "source": [
    "$$\\frac{\\partial J}{\\partial \\theta_1} = \\frac{1}{N}\\sum{(h(X_i) - y_i)}(x_{1i}) + \\frac{\\lambda}{N}\\theta_1$$"
   ]
  },
  {
   "cell_type": "markdown",
   "metadata": {},
   "source": [
    "$$ \\vdots$$"
   ]
  },
  {
   "cell_type": "markdown",
   "metadata": {},
   "source": [
    "$$\\frac{\\partial J}{\\partial \\theta_k} = \\frac{1}{N}\\sum{(h(X_i) - y_i)}(x_{ki}) + \\frac{\\lambda}{N}\\theta_k$$"
   ]
  },
  {
   "cell_type": "markdown",
   "metadata": {},
   "source": [
    "Matricialmente\n",
    "$$ \\nabla J = \\frac{1}{N}X'(X\\Theta - Y) + \\frac{\\lambda}{N}\\Theta $$"
   ]
  },
  {
   "cell_type": "code",
   "execution_count": 43,
   "metadata": {},
   "outputs": [],
   "source": [
    "def costFunc_L2(X,Y,Theta_gd, lam= 10):\n",
    "    \"\"\"\n",
    "    Calcula la función de costo con un Theta dado\n",
    "    y el gradiende de la regresión lineal \n",
    "    \"\"\"\n",
    "    J = (1/2*Y.shape[0])*((X@Theta_gd - Y).T@(X@Theta_gd - Y))\n",
    "    J_grad = (1/Y.shape[0])*(X.T@(X@Theta_gd-Y)) + (lam/Y.shape[0])*Theta_gd\n",
    "    return J, J_grad"
   ]
  },
  {
   "cell_type": "code",
   "execution_count": 44,
   "metadata": {},
   "outputs": [
    {
     "data": {
      "text/plain": [
       "(25771495.568508323,\n",
       " array([  2.84503789, 604.04161448,   6.32700924,  12.63710711]))"
      ]
     },
     "execution_count": 44,
     "metadata": {},
     "output_type": "execute_result"
    }
   ],
   "source": [
    "costFunc_L2(X,Y,Theta_gd)"
   ]
  },
  {
   "cell_type": "code",
   "execution_count": 45,
   "metadata": {},
   "outputs": [
    {
     "data": {
      "text/plain": [
       "(25771495.568508323,\n",
       " array([  2.85195708, 604.02706821,   6.27329926,  12.66909429]))"
      ]
     },
     "execution_count": 45,
     "metadata": {},
     "output_type": "execute_result"
    }
   ],
   "source": [
    "costFunc(X,Y,Theta_gd)"
   ]
  },
  {
   "cell_type": "code",
   "execution_count": 46,
   "metadata": {},
   "outputs": [],
   "source": [
    "def gradientDescent_L2(X,Y,Theta_gd,alpha=0.01,iteraciones=100, lam=100):\n",
    "    histJ, histT = [],[]\n",
    "    J , J_grad = costFunc(X,Y,Theta_gd)\n",
    "    histJ.append(J)\n",
    "    for i in range(1,iteraciones+1):\n",
    "        Theta_gd = act_Theta(Theta_gd,J_grad,alpha=alpha)\n",
    "        histT.append(Theta_gd)\n",
    "        J , J_grad = costFunc_L2(X,Y,Theta_gd,lam=lam)\n",
    "        histJ.append(J)\n",
    "        if i%500 ==0:\n",
    "            print(\"Función de costo en la iteración \", i, \": \",round(J,2))\n",
    "    return Theta_gd , histJ, histT"
   ]
  },
  {
   "cell_type": "code",
   "execution_count": 47,
   "metadata": {
    "scrolled": true
   },
   "outputs": [
    {
     "name": "stdout",
     "output_type": "stream",
     "text": [
      "[-0.30550155  0.07863136  2.08408158 -1.28656788]\n",
      "[-0.02530896  0.04351951  0.15142932 -0.09507263]\n",
      "[-0.05656091  0.0047699  -0.46871896  2.08066242]\n"
     ]
    },
    {
     "data": {
      "image/png": "[encoded data removed]",
      "text/plain": [
       "<Figure size 432x288 with 1 Axes>"
      ]
     },
     "metadata": {},
     "output_type": "display_data"
    }
   ],
   "source": [
    "Theta_opt , hist_J = gradientDescent(X,Y,Theta_gd, alpha=0.001, iteraciones=10**1)\n",
    "Theta_opt_L2 , hist_J_L2, histT_L2 = gradientDescent_L2(X,Y,Theta_gd, alpha=0.001, iteraciones=10**1, lam= 10**5)\n",
    "plt.plot(hist_J, c=\"blue\")\n",
    "plt.plot(hist_J_L2, c=\"green\")\n",
    "print(Theta_opt)\n",
    "print(Theta_opt_L2)\n",
    "print(reg_lin_Mat(X,Y))"
   ]
  },
  {
   "cell_type": "code",
   "execution_count": 48,
   "metadata": {
    "scrolled": true
   },
   "outputs": [
    {
     "data": {
      "text/plain": [
       "[<matplotlib.lines.Line2D at 0x7ff52de6c0b8>,\n",
       " <matplotlib.lines.Line2D at 0x7ff52de77128>,\n",
       " <matplotlib.lines.Line2D at 0x7ff52de77278>,\n",
       " <matplotlib.lines.Line2D at 0x7ff52de773c8>]"
      ]
     },
     "execution_count": 48,
     "metadata": {},
     "output_type": "execute_result"
    },
    {
     "data": {
      "image/png": "[encoded data removed]",
      "text/plain": [
       "<Figure size 432x288 with 1 Axes>"
      ]
     },
     "metadata": {},
     "output_type": "display_data"
    }
   ],
   "source": [
    "plt.plot(histT, c=\"g\")\n",
    "plt.plot(histT_L1, c=\"b\")\n",
    "plt.plot(histT_L2, c=\"r\")"
   ]
  },
  {
   "cell_type": "markdown",
   "metadata": {},
   "source": [
    "* En regularización L2 , los coeficientes se encogen gradualmente desde la solución no restringida hasta el origen. L2 es un método de encogimiento de coeficientes.\n",
    "* En regularización L1, los coeficientes se encogen gradualmente, pero también se excluyen variables del modelo. Por eso L1 es un método de encogimiento y selección de variables. "
   ]
  },
  {
   "cell_type": "markdown",
   "metadata": {},
   "source": [
    "[![alt-text](img/cdd-lp-gray.png)](https://www.facebook.com/ccd.bolivia.bo/)"
   ]
  }
 ],
 "metadata": {
  "kernelspec": {
   "display_name": "Python 3",
   "language": "python",
   "name": "python3"
  },
  "language_info": {
   "codemirror_mode": {
    "name": "ipython",
    "version": 3
   },
   "file_extension": ".py",
   "mimetype": "text/x-python",
   "name": "python",
   "nbconvert_exporter": "python",
   "pygments_lexer": "ipython3",
   "version": "3.6.3"
  }
 },
 "nbformat": 4,
 "nbformat_minor": 2
}

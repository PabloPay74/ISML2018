{
 "cells": [
  {
   "cell_type": "markdown",
   "metadata": {},
   "source": [
    "[![alt-text](img/LP-School-Of-AI-black.png)](https://www.facebook.com/groups/1204328906374103/)"
   ]
  },
  {
   "cell_type": "markdown",
   "metadata": {},
   "source": [
    "# Introducción a Statistical Machine Learning\n",
    "## Semana III: Regresión Lineal y Regularización \n",
    "por: [Marco Antonio Vino](https://www.linkedin.com/in/mavino)\n",
    "### 3.1 Regresión lineal"
   ]
  },
  {
   "cell_type": "code",
   "execution_count": 1,
   "metadata": {},
   "outputs": [],
   "source": [
    "import numpy as np\n",
    "import pandas as pd\n",
    "import matplotlib.pyplot as plt\n",
    "from ipywidgets import interact, interactive, fixed, interact_manual\n",
    "import ipywidgets as widgets"
   ]
  },
  {
   "cell_type": "code",
   "execution_count": 2,
   "metadata": {},
   "outputs": [],
   "source": [
    "x= np.arange(0,40)\n",
    "x1 = np.linspace(0,40)\n",
    "np.random.seed(100)\n",
    "y = 3.4 + 6.7*x + np.random.randn(x.shape[0])*50"
   ]
  },
  {
   "cell_type": "markdown",
   "metadata": {},
   "source": [
    "## Regresión Lineal de 1 variable"
   ]
  },
  {
   "cell_type": "code",
   "execution_count": 3,
   "metadata": {
    "scrolled": true
   },
   "outputs": [
    {
     "data": {
      "text/plain": [
       "(0, 400)"
      ]
     },
     "execution_count": 3,
     "metadata": {},
     "output_type": "execute_result"
    },
    {
     "data": {
      "image/png": "[encoded data removed]",
      "text/plain": [
       "<Figure size 432x288 with 1 Axes>"
      ]
     },
     "metadata": {},
     "output_type": "display_data"
    }
   ],
   "source": [
    "plt.scatter(x,y)\n",
    "plt.ylabel(\"$y=f(x)$\")\n",
    "plt.xlabel(\"x\")\n",
    "plt.ylim(0,400)"
   ]
  },
  {
   "cell_type": "markdown",
   "metadata": {},
   "source": [
    "\n"
   ]
  },
  {
   "cell_type": "markdown",
   "metadata": {},
   "source": [
    "\n"
   ]
  },
  {
   "cell_type": "markdown",
   "metadata": {},
   "source": [
    "\n",
    "Lo que buscamos es encontrar una función que pueda \"replicar\" nuestros datos de manera coherente, parece razonable plantear una relación lineal para nuestro ejemplo"
   ]
  },
  {
   "cell_type": "markdown",
   "metadata": {},
   "source": [
    "$$ y_i = \\theta_0 + \\theta_1 x_i + \\epsilon_i$$\n"
   ]
  },
  {
   "cell_type": "markdown",
   "metadata": {},
   "source": [
    "\n"
   ]
  },
  {
   "cell_type": "markdown",
   "metadata": {},
   "source": [
    "PARTE DETERMINISTICA:  $$  \\theta_0 + \\theta_1 x_i $$"
   ]
  },
  {
   "cell_type": "markdown",
   "metadata": {},
   "source": [
    "\n"
   ]
  },
  {
   "cell_type": "markdown",
   "metadata": {},
   "source": [
    "PARTE ESTOCASTICA:\n",
    "     $$\\epsilon_i$$"
   ]
  },
  {
   "cell_type": "markdown",
   "metadata": {},
   "source": [
    "(El subindice $i$ denota los valores de la i-ésima observación)\n"
   ]
  },
  {
   "cell_type": "markdown",
   "metadata": {},
   "source": [
    "\n"
   ]
  },
  {
   "cell_type": "markdown",
   "metadata": {},
   "source": [
    "\n"
   ]
  },
  {
   "cell_type": "code",
   "execution_count": 4,
   "metadata": {},
   "outputs": [],
   "source": [
    "def f_update(t0,t1):\n",
    "    plt.scatter(x,y)\n",
    "    plt.ylabel(\"y\")\n",
    "    plt.xlabel(\"x\")\n",
    "    plt.plot(x, t0 + t1*x, c=\"purple\")\n",
    "    plt.ylim(0,400)"
   ]
  },
  {
   "cell_type": "markdown",
   "metadata": {},
   "source": [
    "### Introduzcamos la línea en nuestra gráfica"
   ]
  },
  {
   "cell_type": "code",
   "execution_count": 5,
   "metadata": {
    "scrolled": false
   },
   "outputs": [
    {
     "data": {
      "application/vnd.jupyter.widget-view+json": {
       "model_id": "7537f42c0eac4fd58c5f3e65fe69c2a5",
       "version_major": 2,
       "version_minor": 0
      },
      "text/plain": [
       "interactive(children=(IntSlider(value=50, description='t0', max=200, min=-100), IntSlider(value=0, description…"
      ]
     },
     "metadata": {},
     "output_type": "display_data"
    }
   ],
   "source": [
    "interactive(f_update, t0=(-100,200), t1=(-30,30))"
   ]
  },
  {
   "cell_type": "markdown",
   "metadata": {},
   "source": [
    "¿Cómo se cuál es la linea \"correcta\"?"
   ]
  },
  {
   "cell_type": "markdown",
   "metadata": {},
   "source": [
    " "
   ]
  },
  {
   "cell_type": "markdown",
   "metadata": {},
   "source": [
    "### Necesitamos una medida para saber si estamos cerca de nuestro objetivo:"
   ]
  },
  {
   "cell_type": "markdown",
   "metadata": {},
   "source": [
    "$$ y_i - (\\theta_0 + \\theta_1 x_i) = \\epsilon_i$$"
   ]
  },
  {
   "cell_type": "markdown",
   "metadata": {},
   "source": [
    "* $\\theta_0$ y $\\theta_1$ son parámetros poblacionales, y no los llegaremos a conocer\n",
    "* Nos aproximaremos a ellos a través de un *ESTIMACIÓN DE PARÁMETROS*\n",
    "* ADVERTENCIA por temas de notación utilizaremos $\\theta_0$, $\\theta_1$ en lugar de  $\\hat{\\theta_0}$, $\\hat{\\theta_1}$.  "
   ]
  },
  {
   "cell_type": "markdown",
   "metadata": {},
   "source": [
    "$$h(x_i|\\Theta) = \\hat{y_i} = \\theta_0 + \\theta_1 x_i $$"
   ]
  },
  {
   "cell_type": "markdown",
   "metadata": {},
   "source": [
    "Por simplificar la notación utilizaremos solamente:\n",
    "    $$ h(x_i)$$ en lugar de: $$h(x_i|\\Theta)$$"
   ]
  },
  {
   "cell_type": "markdown",
   "metadata": {},
   "source": [
    " "
   ]
  },
  {
   "cell_type": "code",
   "execution_count": 6,
   "metadata": {
    "scrolled": false
   },
   "outputs": [
    {
     "data": {
      "application/vnd.jupyter.widget-view+json": {
       "model_id": "f89ee33899704a5fa14ca3415fd884a0",
       "version_major": 2,
       "version_minor": 0
      },
      "text/plain": [
       "interactive(children=(IntSlider(value=20, description='i', max=40), Output()), _dom_classes=('widget-interact'…"
      ]
     },
     "metadata": {},
     "output_type": "display_data"
    }
   ],
   "source": [
    "i = 12\n",
    "def errores(i):\n",
    "    plt.scatter(x,y)\n",
    "    plt.ylabel(\"y\")\n",
    "    plt.xlabel(\"x\")\n",
    "    plt.plot(x, 25 + 6*x, c=\"purple\")\n",
    "    plt.plot(x[20], c=\"yellow\")\n",
    "    plt.ylim(0,400)\n",
    "    plt.scatter(x[i], y[i],c=\"red\") #Valor original\n",
    "    plt.scatter(x[i], 25 + 6*x[i],c=\"green\") # Valor estimado\n",
    "    print(\"y_i\",\"\\t\",\"y*_i\",\"\\t\",\"e\")\n",
    "    print( round(y[i],2),\"\\t\", (25 + 6*x[i]) ,\"\\t\", round(y[i] - (25 + 6*x[i]),2))\n",
    "interactive(errores, i=(0,40))"
   ]
  },
  {
   "cell_type": "markdown",
   "metadata": {},
   "source": [
    "¿Sumamos todos los errores?"
   ]
  },
  {
   "cell_type": "markdown",
   "metadata": {},
   "source": [
    "$$ \\sum_{i=1}^N{\\epsilon_i} = \\sum_{i=1}^N{y_i - h(x_i)} $$\n"
   ]
  },
  {
   "cell_type": "markdown",
   "metadata": {},
   "source": [
    "* Al existir errores positivos y negativos usar una sumatoria simple tenderá a \"eliminar\" los errores. \n",
    "* Utilizamos la sumatoria de los cuadrados de los errores"
   ]
  },
  {
   "cell_type": "markdown",
   "metadata": {},
   "source": [
    " $$ \\sum_{i=1}^N{\\epsilon_i^2} = \\sum_{i=1}^N{[y_i - h(x_i)]^2} $$"
   ]
  },
  {
   "cell_type": "markdown",
   "metadata": {},
   "source": [
    " "
   ]
  },
  {
   "cell_type": "markdown",
   "metadata": {},
   "source": [
    " ### Función de costo "
   ]
  },
  {
   "cell_type": "markdown",
   "metadata": {},
   "source": [
    " $$ J(\\Theta) =  \\sum_{i=1}^N{[y_i - h(x_i)]^2} $$"
   ]
  },
  {
   "cell_type": "code",
   "execution_count": 7,
   "metadata": {},
   "outputs": [],
   "source": [
    "def f_update_e(t0,t1):\n",
    "    plt.scatter(x,y)\n",
    "    plt.ylabel(\"y\")\n",
    "    plt.xlabel(\"x\")\n",
    "    plt.plot(x, t0 + t1*x, c=\"purple\")\n",
    "    plt.ylim(0,400)\n",
    "    print(round(np.sum(np.square(y - (t0 + t1*x))),2 ))"
   ]
  },
  {
   "cell_type": "code",
   "execution_count": 8,
   "metadata": {},
   "outputs": [
    {
     "data": {
      "application/vnd.jupyter.widget-view+json": {
       "model_id": "b9c82d2a1da74989b624022d91e87d30",
       "version_major": 2,
       "version_minor": 0
      },
      "text/plain": [
       "interactive(children=(IntSlider(value=50, description='t0', max=200, min=-100), IntSlider(value=0, description…"
      ]
     },
     "metadata": {},
     "output_type": "display_data"
    }
   ],
   "source": [
    "interactive(f_update_e, t0=(-100,200), t1=(-30,30))"
   ]
  },
  {
   "cell_type": "markdown",
   "metadata": {},
   "source": [
    "$J$ esta en función de los parámetros o pesos de nuestro modelo, para que su valor cambie lo que tenemos que hacer es cambiar los valores de $\\Theta$"
   ]
  },
  {
   "cell_type": "markdown",
   "metadata": {},
   "source": [
    " ### Nuestro objetivo es: MINIMIZAR LA FUNCIÓN DE COSTO"
   ]
  },
  {
   "cell_type": "markdown",
   "metadata": {},
   "source": [
    "$$\\min_{\\Theta} \\ \\  J(\\Theta) =  \\sum_{i=1}^N{[y_i - h(x_i)]^2} $$"
   ]
  },
  {
   "cell_type": "markdown",
   "metadata": {},
   "source": [
    " "
   ]
  },
  {
   "cell_type": "markdown",
   "metadata": {},
   "source": [
    "Tendremos 2 formas de solucionar este problema.  \n",
    "* De manera Iterativa\n",
    "* De manera Analítica"
   ]
  },
  {
   "cell_type": "markdown",
   "metadata": {},
   "source": [
    "#### Solución analítica"
   ]
  },
  {
   "cell_type": "markdown",
   "metadata": {},
   "source": [
    "Derivamos nuestra función de costo respecto a los parámetros de nuestro vector $\\Theta$"
   ]
  },
  {
   "cell_type": "markdown",
   "metadata": {},
   "source": [
    "$$\\min_{\\Theta} \\ \\  J(\\Theta) =  \\sum_{i=1}^N{[y_i - h(x_i)]^2} $$"
   ]
  },
  {
   "cell_type": "markdown",
   "metadata": {},
   "source": [
    "Reexpresamos en términos de $\\theta_i$"
   ]
  },
  {
   "cell_type": "markdown",
   "metadata": {},
   "source": [
    "$$\\min_{\\Theta} \\ \\  J(\\Theta) =  \\sum_{i=1}^N{[y_i - \\theta_0 - \\theta_1x_i]^2} $$"
   ]
  },
  {
   "cell_type": "markdown",
   "metadata": {},
   "source": [
    "Derivamos y obtenemos el gradiente: "
   ]
  },
  {
   "cell_type": "markdown",
   "metadata": {},
   "source": [
    "$$\\frac{\\partial J}{\\partial \\theta_0} = 2\\sum{(y_i−\\theta_0 − \\theta_1 x_i)}(-1)$$"
   ]
  },
  {
   "cell_type": "markdown",
   "metadata": {},
   "source": [
    "$$\\frac{\\partial J}{\\partial \\theta_1} = 2\\sum{(y_i−\\theta_0 − \\theta_1 x_i)}(-x_i)$$"
   ]
  },
  {
   "cell_type": "markdown",
   "metadata": {},
   "source": [
    "Igualamos a 0 "
   ]
  },
  {
   "cell_type": "markdown",
   "metadata": {},
   "source": [
    "$$\\nabla J = \\;\n",
    "\\begin{bmatrix}\n",
    " \\frac{\\partial J}{\\partial \\theta_0} \\\\\n",
    " \\frac{\\partial J}{\\partial \\theta_1} \n",
    "\\end{bmatrix}\n",
    "=\n",
    " \\begin{bmatrix}\n",
    "      2\\sum{(y_i−\\theta_0 − \\theta_1 x_i)}(-1) \\\\\n",
    "      2\\sum{(y_i−\\theta_0 − \\theta_1 x_i)}(-x_i)\\\\\n",
    "    \\end{bmatrix}\n",
    "     = \n",
    "     \\begin{bmatrix}\n",
    "     0 \\\\ \n",
    "     0\n",
    "     \\end{bmatrix}\n",
    "     $$"
   ]
  },
  {
   "cell_type": "markdown",
   "metadata": {},
   "source": [
    "$$  \\begin{bmatrix}\n",
    "      \\sum{(y_i−\\theta_0 − \\theta_1 x_i)} \\\\\n",
    "      \\sum{(y_i−\\theta_0 − \\theta_1 x_i)}(x_i)\\\\\n",
    "    \\end{bmatrix}\n",
    "     = \n",
    "     \\begin{bmatrix}\n",
    "     0 \\\\ \n",
    "     0\n",
    "     \\end{bmatrix}\n",
    "     $$"
   ]
  },
  {
   "cell_type": "markdown",
   "metadata": {},
   "source": [
    "Sistema de ecuaciones normales. "
   ]
  },
  {
   "cell_type": "markdown",
   "metadata": {},
   "source": [
    "$$  \\begin{bmatrix}\n",
    "      \\sum y_i - n\\theta_0 - \\theta_i \\sum x_i \\\\\n",
    "      \\sum x_iy_i - \\theta_0 \\sum x_i - \\theta_1 \\sum x_i^2\\\\\n",
    "    \\end{bmatrix}\n",
    "     = \n",
    "     \\begin{bmatrix}\n",
    "     0 \\\\ \n",
    "     0\n",
    "     \\end{bmatrix}\n",
    "     $$"
   ]
  },
  {
   "cell_type": "markdown",
   "metadata": {},
   "source": [
    "Resolviendo el sistema de ecuaciones obtenemos:"
   ]
  },
  {
   "cell_type": "markdown",
   "metadata": {},
   "source": [
    "$$\\theta_0^* = \\bar{y} - \\theta_1 \\bar{x}$$"
   ]
  },
  {
   "cell_type": "markdown",
   "metadata": {},
   "source": [
    "$$\\theta_1^* = \\frac{\\sum x_i y_i - \\bar{y}\\sum x_i}{\\sum x_i^2 - \\bar{x} \\sum{x_i}}$$"
   ]
  },
  {
   "cell_type": "markdown",
   "metadata": {},
   "source": [
    "Esto se puede generalizar a un modelo lineal con más variables:"
   ]
  },
  {
   "cell_type": "markdown",
   "metadata": {},
   "source": [
    "Sea: "
   ]
  },
  {
   "cell_type": "markdown",
   "metadata": {},
   "source": [
    "$$ y_i = \\theta_0 + \\theta_1x_{1i} + \\theta_2x_{2i} + ... + \\theta_kx_{ki} + \\epsilon_i $$"
   ]
  },
  {
   "cell_type": "markdown",
   "metadata": {},
   "source": [
    "Podemos generalizar y representar la notación vectorial de todas las $n$ observaciones"
   ]
  },
  {
   "cell_type": "markdown",
   "metadata": {},
   "source": [
    "$$ Y = X\\Theta + U $$"
   ]
  },
  {
   "cell_type": "markdown",
   "metadata": {},
   "source": [
    "Donde:"
   ]
  },
  {
   "cell_type": "markdown",
   "metadata": {},
   "source": [
    "$Y$: Es el vector de $y_i$  $(n,1)$  "
   ]
  },
  {
   "cell_type": "markdown",
   "metadata": {},
   "source": [
    "$X$: Es una matriz  que contiene los valores de las variables para las n observaciones de dimensiones $(n,k+1)$  "
   ]
  },
  {
   "cell_type": "markdown",
   "metadata": {},
   "source": [
    "$\\Theta$: Es un vector columna que contiene los valores de los parámetros de la función de dimensiones $(k+1,1)$  "
   ]
  },
  {
   "cell_type": "markdown",
   "metadata": {},
   "source": [
    "$U$: Es un vector columna  de los errores para cada observación de los dimensiones $(n,1)$  "
   ]
  },
  {
   "cell_type": "markdown",
   "metadata": {},
   "source": [
    " \n",
    "    \n",
    "    "
   ]
  },
  {
   "cell_type": "markdown",
   "metadata": {},
   "source": [
    " \n",
    "    \n",
    "    "
   ]
  },
  {
   "cell_type": "markdown",
   "metadata": {},
   "source": [
    "De manera similar, se puede minimizar la función de costo de la función con k variables, llegando al siguiente resultado: "
   ]
  },
  {
   "cell_type": "markdown",
   "metadata": {},
   "source": [
    " \n",
    "    \n",
    "    "
   ]
  },
  {
   "cell_type": "markdown",
   "metadata": {},
   "source": [
    "$$ \\Theta^* = (X'X)^{-1}X'Y$$"
   ]
  },
  {
   "cell_type": "markdown",
   "metadata": {},
   "source": [
    " \n",
    "    \n",
    "    "
   ]
  },
  {
   "cell_type": "markdown",
   "metadata": {},
   "source": [
    " \n",
    "    \n",
    "    "
   ]
  },
  {
   "cell_type": "markdown",
   "metadata": {},
   "source": [
    "### Solución iterativa"
   ]
  },
  {
   "cell_type": "markdown",
   "metadata": {},
   "source": [
    "Nuestro objetivo sigue siendo el mismo "
   ]
  },
  {
   "cell_type": "markdown",
   "metadata": {},
   "source": [
    "$$\\min_{\\Theta} \\ \\  J(\\Theta) =  \\sum_{i=1}^N{[y_i - h(x_i)]^2} $$"
   ]
  },
  {
   "cell_type": "code",
   "execution_count": 9,
   "metadata": {},
   "outputs": [
    {
     "data": {
      "application/vnd.jupyter.widget-view+json": {
       "model_id": "f421011d15b64c2eacdb716404a90981",
       "version_major": 2,
       "version_minor": 0
      },
      "text/plain": [
       "interactive(children=(IntSlider(value=50, description='t0', max=200, min=-100), IntSlider(value=0, description…"
      ]
     },
     "metadata": {},
     "output_type": "display_data"
    }
   ],
   "source": [
    "interactive(f_update_e, t0=(-100,200), t1=(-30,30))"
   ]
  },
  {
   "cell_type": "markdown",
   "metadata": {},
   "source": [
    "Realizaremos unos pequeños cambios para que la interpretación de las actualizaciones de los pesos sean más intuitivas"
   ]
  },
  {
   "cell_type": "markdown",
   "metadata": {},
   "source": [
    "$$\\min_{\\Theta} \\ \\  J(\\Theta) =  \\frac{1}{2N}\\sum_{i=1}^N{[h(x_i)  -y_i]^2 } $$"
   ]
  },
  {
   "cell_type": "markdown",
   "metadata": {},
   "source": [
    "### GRADIENT DESCENT"
   ]
  },
  {
   "cell_type": "markdown",
   "metadata": {},
   "source": [
    "Es un algoritmo de optimización iterativo de primer orden, es decir,considera la cercania de la función a un punto óptimo, en función del valor de su primera derivada.  "
   ]
  },
  {
   "cell_type": "markdown",
   "metadata": {},
   "source": [
    "* Inicializamos los Parámetros de manera aleatoria\n",
    "* Por el número de iteraciones definidas. \n",
    "    * Calculamos el valor del los gradientes\n",
    "    * Actualizamos los parámetros\n"
   ]
  },
  {
   "cell_type": "markdown",
   "metadata": {},
   "source": [
    "![alt-text](img/optimizacion.png)"
   ]
  },
  {
   "cell_type": "markdown",
   "metadata": {},
   "source": [
    "![alt-text](img/opt.gif)"
   ]
  },
  {
   "cell_type": "code",
   "execution_count": 10,
   "metadata": {
    "scrolled": true
   },
   "outputs": [
    {
     "data": {
      "image/png": "[encoded data removed]",
      "text/plain": [
       "<Figure size 432x288 with 2 Axes>"
      ]
     },
     "metadata": {},
     "output_type": "display_data"
    }
   ],
   "source": [
    "from mpl_toolkits.mplot3d import Axes3D\n",
    "from matplotlib import cm\n",
    "from matplotlib.ticker import LinearLocator, FormatStrFormatter\n",
    "\n",
    "\n",
    "# Generando datos\n",
    "X = np.arange(-2, 2, 0.25)\n",
    "Y = np.arange(-2, 2, 0.25)\n",
    "X, Y = np.meshgrid(X, Y)\n",
    "R = np.sqrt(X**2 + Y**2)\n",
    "Z = np.sin((1/2)*X**2 - (1/4)*Y**2 + 3)*np.cos(2*X + 1 - np.exp(Y))\n",
    "\n",
    "fig = plt.figure()\n",
    "ax = fig.gca(projection='3d')\n",
    "# La superficie\n",
    "surf = ax.plot_surface(X, Y, Z, cmap=plt.cm.get_cmap('RdYlGn'),\n",
    "                       linewidth=0, antialiased=True, )\n",
    "ax.set_zlim(-2, 2)\n",
    "ax.zaxis.set_major_locator(LinearLocator(5))\n",
    "ax.zaxis.set_major_formatter(FormatStrFormatter('%.02f'))\n",
    "\n",
    "# Añadiendo los colores\n",
    "fig.colorbar(surf, shrink=0.7, aspect=2)\n",
    "plt.show()\n"
   ]
  },
  {
   "cell_type": "markdown",
   "metadata": {},
   "source": [
    "Obtenemos el gradiente:"
   ]
  },
  {
   "cell_type": "markdown",
   "metadata": {},
   "source": [
    "$$\\frac{\\partial J}{\\partial \\theta_0} = \\frac{1}{N}\\sum{(h(x_i) - y_i)}$$"
   ]
  },
  {
   "cell_type": "markdown",
   "metadata": {},
   "source": [
    "$$\\frac{\\partial J}{\\partial \\theta_1} = \\frac{1}{N}\\sum{(h(x_i) - y_i)}(x_i)$$"
   ]
  },
  {
   "cell_type": "markdown",
   "metadata": {},
   "source": [
    "### Regla de ACTUALIZACIÓN DE LOS PARÁMETROS\n",
    "Formulación intuitiva"
   ]
  },
  {
   "cell_type": "markdown",
   "metadata": {},
   "source": [
    "$$ \\theta_i := \\theta_i - \\alpha \\frac{\\partial J}{\\partial \\theta_i}$$"
   ]
  },
  {
   "cell_type": "markdown",
   "metadata": {},
   "source": [
    "Definición formal:"
   ]
  },
  {
   "cell_type": "markdown",
   "metadata": {},
   "source": [
    "$$ \\theta_i^{(t)} := \\theta_i^{(t-1)} - \\alpha \\frac{\\partial J}{\\partial \\theta_i}\\Big|_{\\theta_i^{(t-1)}}$$"
   ]
  },
  {
   "cell_type": "markdown",
   "metadata": {},
   "source": [
    " "
   ]
  },
  {
   "cell_type": "markdown",
   "metadata": {},
   "source": [
    " "
   ]
  },
  {
   "cell_type": "markdown",
   "metadata": {},
   "source": [
    " "
   ]
  },
  {
   "cell_type": "code",
   "execution_count": 11,
   "metadata": {},
   "outputs": [
    {
     "data": {
      "text/plain": [
       "<matplotlib.collections.PathCollection at 0x7f2c843c7f60>"
      ]
     },
     "execution_count": 11,
     "metadata": {},
     "output_type": "execute_result"
    },
    {
     "data": {
      "image/png": "[encoded data removed]",
      "text/plain": [
       "<Figure size 432x288 with 1 Axes>"
      ]
     },
     "metadata": {},
     "output_type": "display_data"
    }
   ],
   "source": [
    "y1 = 3.4 + 6.7*x  - 0.5*x**2 + np.random.randn(x.shape[0])*300\n",
    "x1 = np.linspace(0,30)\n",
    "plt.scatter(x,y1, c=\"orange\")"
   ]
  },
  {
   "cell_type": "code",
   "execution_count": 12,
   "metadata": {},
   "outputs": [
    {
     "data": {
      "text/plain": [
       "<matplotlib.collections.PathCollection at 0x7f2c843a7438>"
      ]
     },
     "execution_count": 12,
     "metadata": {},
     "output_type": "execute_result"
    },
    {
     "data": {
      "image/png": "[encoded data removed]",
      "text/plain": [
       "<Figure size 432x288 with 1 Axes>"
      ]
     },
     "metadata": {},
     "output_type": "display_data"
    }
   ],
   "source": [
    "x2= np.arange(-40,40)\n",
    "y2 = 3.4 + 6.7*x  - 0.5*x**2  + 0.02*x**3 + np.random.randn(x.shape[0])*380\n",
    "plt.scatter(x,y2,c=\"green\")"
   ]
  },
  {
   "cell_type": "code",
   "execution_count": 13,
   "metadata": {},
   "outputs": [],
   "source": [
    "def f_update(t0,t1):\n",
    "    plt.scatter(x,y2, c=\"green\")\n",
    "    plt.plot(x, t0 + t1*x, c=\"purple\")\n",
    "    plt.plot(x, 3.4 + 6.7*x  - 0.5*x**2  + 0.02*x**3, c=\"black\")\n",
    "    "
   ]
  },
  {
   "cell_type": "code",
   "execution_count": 14,
   "metadata": {
    "scrolled": true
   },
   "outputs": [
    {
     "data": {
      "application/vnd.jupyter.widget-view+json": {
       "model_id": "6b82ef6289f54575b13153e990dc0dd9",
       "version_major": 2,
       "version_minor": 0
      },
      "text/plain": [
       "interactive(children=(IntSlider(value=-200, description='t0', min=-500), IntSlider(value=0, description='t1', …"
      ]
     },
     "metadata": {},
     "output_type": "display_data"
    }
   ],
   "source": [
    "interactive(f_update, t0=(-500,100), t1=(-100,100))"
   ]
  },
  {
   "cell_type": "markdown",
   "metadata": {},
   "source": [
    "Dentro de mi expresión pued incluir terminos polínomicos de las variables.  \n"
   ]
  },
  {
   "cell_type": "markdown",
   "metadata": {},
   "source": [
    "$$ y_i = \\theta_0 + \\theta_1x_{1i} + \\theta_2x_{2i} + ... + \\theta_kx_{ki} + \\epsilon_i $$"
   ]
  },
  {
   "cell_type": "markdown",
   "metadata": {},
   "source": [
    "Donde: "
   ]
  },
  {
   "cell_type": "markdown",
   "metadata": {},
   "source": [
    "$$ x_{2i} = x_{1i}^2$$\n",
    "$$ x_{3i} = x_{1i}^3$$"
   ]
  },
  {
   "cell_type": "markdown",
   "metadata": {},
   "source": [
    "tambien puedo incluir interacciones de las varibles.  "
   ]
  },
  {
   "cell_type": "markdown",
   "metadata": {},
   "source": [
    "$$ x_{4i} = x_{1i}x_{2i}$$"
   ]
  },
  {
   "cell_type": "markdown",
   "metadata": {},
   "source": [
    "## Esto nos puede generar el problema de OVERFITTING"
   ]
  },
  {
   "cell_type": "markdown",
   "metadata": {},
   "source": [
    "![alt-text](img/overfitting.png)"
   ]
  },
  {
   "cell_type": "markdown",
   "metadata": {},
   "source": [
    "Los métodos a través de los cuales podemos intentar solucionarlos son llamdados MÉTODOS DE REGULARIZACIÓN"
   ]
  },
  {
   "cell_type": "markdown",
   "metadata": {},
   "source": [
    "#### Regularazación L1\n",
    "Valor Absoluto"
   ]
  },
  {
   "cell_type": "markdown",
   "metadata": {},
   "source": [
    "$$\\min_{\\Theta} \\ \\  J(\\Theta) =  \\frac{1}{2N}[\\sum_{i=1}^N{[h(x_i)  -y_i]^2 + \\lambda\\sum_{j=1}\n",
    "^k |\\theta_j| } ]$$"
   ]
  },
  {
   "cell_type": "markdown",
   "metadata": {},
   "source": [
    "#### Regularazación L2\n",
    "Cuadrados"
   ]
  },
  {
   "cell_type": "markdown",
   "metadata": {},
   "source": [
    "$$\\min_{\\Theta} \\ \\  J(\\Theta) =  \\frac{1}{2N}[\\sum_{i=1}^N{[h(x_i)  -y_i]^2 + \\lambda\\sum_{j=1}\n",
    "^k \\theta_j^2 } ]$$"
   ]
  },
  {
   "cell_type": "markdown",
   "metadata": {},
   "source": [
    "[![alt-text](img/cdd-lp-gray.png)](https://www.facebook.com/ccd.bolivia.bo/)"
   ]
  }
 ],
 "metadata": {
  "kernelspec": {
   "display_name": "Python 3",
   "language": "python",
   "name": "python3"
  },
  "language_info": {
   "codemirror_mode": {
    "name": "ipython",
    "version": 3
   },
   "file_extension": ".py",
   "mimetype": "text/x-python",
   "name": "python",
   "nbconvert_exporter": "python",
   "pygments_lexer": "ipython3",
   "version": "3.6.3"
  }
 },
 "nbformat": 4,
 "nbformat_minor": 2
}

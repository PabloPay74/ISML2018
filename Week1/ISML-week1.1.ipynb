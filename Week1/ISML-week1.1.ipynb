{
 "cells": [
  {
   "cell_type": "markdown",
   "metadata": {},
   "source": [
    "[![alt-text](img/LP-School-Of-AI-black.png)](https://www.facebook.com/groups/1204328906374103/)"
   ]
  },
  {
   "cell_type": "markdown",
   "metadata": {},
   "source": [
    "# Introducción a Statistical Machine Learning\n",
    "## Semana I: Python para Machine Learning y Ciencia de datos \n",
    "por: [Marco Antonio Vino](https://www.linkedin.com/in/mavino)\n",
    "### 1.1 Primeros pasos con Numpy\n"
   ]
  },
  {
   "cell_type": "markdown",
   "metadata": {},
   "source": [
    "[![alt-text](img/numpy.png)](http://www.numpy.org/)"
   ]
  },
  {
   "cell_type": "markdown",
   "metadata": {},
   "source": [
    "* Libreria especializada en el computo n-dimensional\n",
    "* Numpy trabja elementopor elemento\n"
   ]
  },
  {
   "cell_type": "markdown",
   "metadata": {},
   "source": [
    "La forma de importar librerias externas y asignar alias:"
   ]
  },
  {
   "cell_type": "code",
   "execution_count": 1,
   "metadata": {},
   "outputs": [],
   "source": [
    "import numpy as np"
   ]
  },
  {
   "cell_type": "markdown",
   "metadata": {},
   "source": [
    "comparando la eficiencia de los arrays de NumPy"
   ]
  },
  {
   "cell_type": "code",
   "execution_count": 19,
   "metadata": {},
   "outputs": [],
   "source": [
    "a = np.random.randint(0,100,10**5) #generando aleatorios"
   ]
  },
  {
   "cell_type": "code",
   "execution_count": 20,
   "metadata": {},
   "outputs": [
    {
     "data": {
      "text/plain": [
       "array([10, 88, 30, ..., 22, 93, 70])"
      ]
     },
     "execution_count": 20,
     "metadata": {},
     "output_type": "execute_result"
    }
   ],
   "source": [
    "a"
   ]
  },
  {
   "cell_type": "code",
   "execution_count": 4,
   "metadata": {},
   "outputs": [
    {
     "data": {
      "text/plain": [
       "numpy.ndarray"
      ]
     },
     "execution_count": 4,
     "metadata": {},
     "output_type": "execute_result"
    }
   ],
   "source": [
    "type(a)"
   ]
  },
  {
   "cell_type": "code",
   "execution_count": 5,
   "metadata": {},
   "outputs": [
    {
     "data": {
      "text/plain": [
       "[94,\n",
       " 64,\n",
       " 22,\n",
       " 55,\n",
       " 84,\n",
       " 8,\n",
       " 57,\n",
       " 54,\n",
       " 53,\n",
       " 26,\n",
       " 79,\n",
       " 81,\n",
       " 85,\n",
       " 4,\n",
       " 79,\n",
       " 16,\n",
       " 54,\n",
       " 27,\n",
       " 42,\n",
       " 59,\n",
       " 17,\n",
       " 54,\n",
       " 23,\n",
       " 36,\n",
       " 79,\n",
       " 97,\n",
       " 72,\n",
       " 17,\n",
       " 88,\n",
       " 50,\n",
       " 17,\n",
       " 55,\n",
       " 88,\n",
       " 2,\n",
       " 45,\n",
       " 94,\n",
       " 3,\n",
       " 81,\n",
       " 98,\n",
       " 7,\n",
       " 32,\n",
       " 10,\n",
       " 43,\n",
       " 12,\n",
       " 39,\n",
       " 89,\n",
       " 12,\n",
       " 15,\n",
       " 65,\n",
       " 45,\n",
       " 23,\n",
       " 84,\n",
       " 6,\n",
       " 20,\n",
       " 38,\n",
       " 17,\n",
       " 32,\n",
       " 3,\n",
       " 64,\n",
       " 71,\n",
       " 8,\n",
       " 3,\n",
       " 49,\n",
       " 12,\n",
       " 91,\n",
       " 24,\n",
       " 7,\n",
       " 9,\n",
       " 57,\n",
       " 88,\n",
       " 83,\n",
       " 98,\n",
       " 64,\n",
       " 51,\n",
       " 85,\n",
       " 36,\n",
       " 54,\n",
       " 73,\n",
       " 39,\n",
       " 72,\n",
       " 30,\n",
       " 51,\n",
       " 69,\n",
       " 59,\n",
       " 78,\n",
       " 28,\n",
       " 4,\n",
       " 81,\n",
       " 78,\n",
       " 56,\n",
       " 34,\n",
       " 89,\n",
       " 23,\n",
       " 51,\n",
       " 26,\n",
       " 40,\n",
       " 20,\n",
       " 95,\n",
       " 37,\n",
       " 80,\n",
       " 78,\n",
       " 40,\n",
       " 63,\n",
       " 88,\n",
       " 1,\n",
       " 65,\n",
       " 56,\n",
       " 4,\n",
       " 92,\n",
       " 72,\n",
       " 90,\n",
       " 68,\n",
       " 51,\n",
       " 68,\n",
       " 88,\n",
       " 26,\n",
       " 8,\n",
       " 90,\n",
       " 74,\n",
       " 1,\n",
       " 15,\n",
       " 65,\n",
       " 5,\n",
       " 39,\n",
       " 89,\n",
       " 42,\n",
       " 75,\n",
       " 55,\n",
       " 36,\n",
       " 4,\n",
       " 78,\n",
       " 75,\n",
       " 82,\n",
       " 8,\n",
       " 14,\n",
       " 94,\n",
       " 61,\n",
       " 95,\n",
       " 60,\n",
       " 80,\n",
       " 66,\n",
       " 27,\n",
       " 13,\n",
       " 25,\n",
       " 45,\n",
       " 62,\n",
       " 54,\n",
       " 62,\n",
       " 58,\n",
       " 38,\n",
       " 5,\n",
       " 45,\n",
       " 35,\n",
       " 45,\n",
       " 35,\n",
       " 85,\n",
       " 95,\n",
       " 85,\n",
       " 90,\n",
       " 30,\n",
       " 90,\n",
       " 65,\n",
       " 99,\n",
       " 69,\n",
       " 75,\n",
       " 30,\n",
       " 10,\n",
       " 63,\n",
       " 32,\n",
       " 96,\n",
       " 24,\n",
       " 58,\n",
       " 56,\n",
       " 86,\n",
       " 51,\n",
       " 51,\n",
       " 28,\n",
       " 57,\n",
       " 62,\n",
       " 82,\n",
       " 76,\n",
       " 41,\n",
       " 19,\n",
       " 49,\n",
       " 38,\n",
       " 52,\n",
       " 32,\n",
       " 91,\n",
       " 36,\n",
       " 14,\n",
       " 10,\n",
       " 74,\n",
       " 61,\n",
       " 62,\n",
       " 39,\n",
       " 60,\n",
       " 99,\n",
       " 42,\n",
       " 79,\n",
       " 14,\n",
       " 32,\n",
       " 85,\n",
       " 19,\n",
       " 68,\n",
       " 62,\n",
       " 90,\n",
       " 1,\n",
       " 73,\n",
       " 71,\n",
       " 53,\n",
       " 76,\n",
       " 13,\n",
       " 94,\n",
       " 72,\n",
       " 84,\n",
       " 17,\n",
       " 82,\n",
       " 97,\n",
       " 15,\n",
       " 76,\n",
       " 4,\n",
       " 8,\n",
       " 46,\n",
       " 9,\n",
       " 99,\n",
       " 76,\n",
       " 86,\n",
       " 56,\n",
       " 23,\n",
       " 82,\n",
       " 31,\n",
       " 7,\n",
       " 19,\n",
       " 97,\n",
       " 37,\n",
       " 27,\n",
       " 67,\n",
       " 57,\n",
       " 0,\n",
       " 59,\n",
       " 31,\n",
       " 85,\n",
       " 16,\n",
       " 86,\n",
       " 1,\n",
       " 20,\n",
       " 89,\n",
       " 50,\n",
       " 96,\n",
       " 73,\n",
       " 6,\n",
       " 38,\n",
       " 12,\n",
       " 27,\n",
       " 59,\n",
       " 12,\n",
       " 8,\n",
       " 79,\n",
       " 21,\n",
       " 96,\n",
       " 63,\n",
       " 21,\n",
       " 43,\n",
       " 33,\n",
       " 55,\n",
       " 24,\n",
       " 86,\n",
       " 29,\n",
       " 36,\n",
       " 54,\n",
       " 58,\n",
       " 69,\n",
       " 93,\n",
       " 33,\n",
       " 78,\n",
       " 73,\n",
       " 8,\n",
       " 98,\n",
       " 78,\n",
       " 74,\n",
       " 86,\n",
       " 26,\n",
       " 34,\n",
       " 38,\n",
       " 34,\n",
       " 24,\n",
       " 76,\n",
       " 54,\n",
       " 73,\n",
       " 86,\n",
       " 29,\n",
       " 38,\n",
       " 82,\n",
       " 53,\n",
       " 18,\n",
       " 79,\n",
       " 81,\n",
       " 20,\n",
       " 15,\n",
       " 96,\n",
       " 53,\n",
       " 18,\n",
       " 96,\n",
       " 34,\n",
       " 82,\n",
       " 14,\n",
       " 45,\n",
       " 99,\n",
       " 16,\n",
       " 70,\n",
       " 92,\n",
       " 3,\n",
       " 22,\n",
       " 5,\n",
       " 29,\n",
       " 60,\n",
       " 41,\n",
       " 61,\n",
       " 58,\n",
       " 89,\n",
       " 93,\n",
       " 48,\n",
       " 41,\n",
       " 3,\n",
       " 76,\n",
       " 83,\n",
       " 18,\n",
       " 88,\n",
       " 6,\n",
       " 83,\n",
       " 36,\n",
       " 15,\n",
       " 60,\n",
       " 22,\n",
       " 2,\n",
       " 22,\n",
       " 11,\n",
       " 33,\n",
       " 18,\n",
       " 87,\n",
       " 64,\n",
       " 28,\n",
       " 76,\n",
       " 32,\n",
       " 96,\n",
       " 53,\n",
       " 99,\n",
       " 23,\n",
       " 25,\n",
       " 28,\n",
       " 47,\n",
       " 27,\n",
       " 47,\n",
       " 97,\n",
       " 43,\n",
       " 19,\n",
       " 54,\n",
       " 17,\n",
       " 9,\n",
       " 53,\n",
       " 12,\n",
       " 84,\n",
       " 50,\n",
       " 21,\n",
       " 23,\n",
       " 27,\n",
       " 22,\n",
       " 57,\n",
       " 38,\n",
       " 64,\n",
       " 88,\n",
       " 89,\n",
       " 8,\n",
       " 51,\n",
       " 29,\n",
       " 33,\n",
       " 75,\n",
       " 46,\n",
       " 21,\n",
       " 47,\n",
       " 34,\n",
       " 30,\n",
       " 7,\n",
       " 75,\n",
       " 82,\n",
       " 44,\n",
       " 49,\n",
       " 82,\n",
       " 83,\n",
       " 74,\n",
       " 35,\n",
       " 30,\n",
       " 53,\n",
       " 33,\n",
       " 3,\n",
       " 12,\n",
       " 29,\n",
       " 79,\n",
       " 89,\n",
       " 90,\n",
       " 43,\n",
       " 40,\n",
       " 80,\n",
       " 81,\n",
       " 14,\n",
       " 26,\n",
       " 48,\n",
       " 1,\n",
       " 19,\n",
       " 12,\n",
       " 73,\n",
       " 18,\n",
       " 63,\n",
       " 84,\n",
       " 24,\n",
       " 53,\n",
       " 85,\n",
       " 56,\n",
       " 25,\n",
       " 90,\n",
       " 50,\n",
       " 81,\n",
       " 19,\n",
       " 11,\n",
       " 87,\n",
       " 19,\n",
       " 4,\n",
       " 44,\n",
       " 47,\n",
       " 54,\n",
       " 44,\n",
       " 81,\n",
       " 44,\n",
       " 1,\n",
       " 54,\n",
       " 12,\n",
       " 66,\n",
       " 80,\n",
       " 65,\n",
       " 55,\n",
       " 55,\n",
       " 30,\n",
       " 48,\n",
       " 45,\n",
       " 62,\n",
       " 5,\n",
       " 88,\n",
       " 21,\n",
       " 64,\n",
       " 5,\n",
       " 0,\n",
       " 15,\n",
       " 52,\n",
       " 1,\n",
       " 57,\n",
       " 23,\n",
       " 62,\n",
       " 54,\n",
       " 14,\n",
       " 98,\n",
       " 72,\n",
       " 73,\n",
       " 4,\n",
       " 71,\n",
       " 9,\n",
       " 72,\n",
       " 90,\n",
       " 79,\n",
       " 30,\n",
       " 98,\n",
       " 98,\n",
       " 49,\n",
       " 70,\n",
       " 33,\n",
       " 11,\n",
       " 81,\n",
       " 35,\n",
       " 63,\n",
       " 73,\n",
       " 38,\n",
       " 84,\n",
       " 62,\n",
       " 32,\n",
       " 22,\n",
       " 43,\n",
       " 79,\n",
       " 27,\n",
       " 55,\n",
       " 66,\n",
       " 93,\n",
       " 7,\n",
       " 59,\n",
       " 49,\n",
       " 78,\n",
       " 95,\n",
       " 20,\n",
       " 92,\n",
       " 43,\n",
       " 4,\n",
       " 29,\n",
       " 58,\n",
       " 28,\n",
       " 17,\n",
       " 50,\n",
       " 7,\n",
       " 72,\n",
       " 94,\n",
       " 82,\n",
       " 72,\n",
       " 51,\n",
       " 72,\n",
       " 48,\n",
       " 88,\n",
       " 36,\n",
       " 44,\n",
       " 41,\n",
       " 74,\n",
       " 32,\n",
       " 66,\n",
       " 25,\n",
       " 58,\n",
       " 76,\n",
       " 13,\n",
       " 5,\n",
       " 70,\n",
       " 53,\n",
       " 58,\n",
       " 0,\n",
       " 1,\n",
       " 27,\n",
       " 60,\n",
       " 48,\n",
       " 83,\n",
       " 33,\n",
       " 60,\n",
       " 59,\n",
       " 80,\n",
       " 64,\n",
       " 50,\n",
       " 56,\n",
       " 41,\n",
       " 2,\n",
       " 75,\n",
       " 38,\n",
       " 68,\n",
       " 42,\n",
       " 95,\n",
       " 43,\n",
       " 47,\n",
       " 36,\n",
       " 33,\n",
       " 67,\n",
       " 82,\n",
       " 86,\n",
       " 24,\n",
       " 4,\n",
       " 28,\n",
       " 67,\n",
       " 76,\n",
       " 18,\n",
       " 16,\n",
       " 34,\n",
       " 53,\n",
       " 40,\n",
       " 46,\n",
       " 71,\n",
       " 58,\n",
       " 86,\n",
       " 89,\n",
       " 4,\n",
       " 67,\n",
       " 9,\n",
       " 40,\n",
       " 43,\n",
       " 56,\n",
       " 55,\n",
       " 86,\n",
       " 31,\n",
       " 77,\n",
       " 97,\n",
       " 61,\n",
       " 50,\n",
       " 15,\n",
       " 55,\n",
       " 37,\n",
       " 2,\n",
       " 60,\n",
       " 95,\n",
       " 18,\n",
       " 83,\n",
       " 31,\n",
       " 95,\n",
       " 96,\n",
       " 22,\n",
       " 67,\n",
       " 36,\n",
       " 57,\n",
       " 17,\n",
       " 43,\n",
       " 92,\n",
       " 12,\n",
       " 45,\n",
       " 11,\n",
       " 57,\n",
       " 2,\n",
       " 7,\n",
       " 26,\n",
       " 56,\n",
       " 7,\n",
       " 72,\n",
       " 98,\n",
       " 99,\n",
       " 44,\n",
       " 85,\n",
       " 2,\n",
       " 45,\n",
       " 7,\n",
       " 62,\n",
       " 84,\n",
       " 41,\n",
       " 42,\n",
       " 77,\n",
       " 70,\n",
       " 79,\n",
       " 86,\n",
       " 87,\n",
       " 59,\n",
       " 45,\n",
       " 57,\n",
       " 79,\n",
       " 76,\n",
       " 65,\n",
       " 20,\n",
       " 63,\n",
       " 71,\n",
       " 69,\n",
       " 5,\n",
       " 60,\n",
       " 0,\n",
       " 66,\n",
       " 68,\n",
       " 25,\n",
       " 19,\n",
       " 92,\n",
       " 18,\n",
       " 90,\n",
       " 5,\n",
       " 42,\n",
       " 94,\n",
       " 6,\n",
       " 92,\n",
       " 44,\n",
       " 68,\n",
       " 29,\n",
       " 34,\n",
       " 82,\n",
       " 61,\n",
       " 75,\n",
       " 70,\n",
       " 3,\n",
       " 14,\n",
       " 21,\n",
       " 52,\n",
       " 45,\n",
       " 28,\n",
       " 6,\n",
       " 12,\n",
       " 82,\n",
       " 88,\n",
       " 15,\n",
       " 80,\n",
       " 23,\n",
       " 59,\n",
       " 53,\n",
       " 67,\n",
       " 63,\n",
       " 35,\n",
       " 12,\n",
       " 94,\n",
       " 4,\n",
       " 87,\n",
       " 91,\n",
       " 59,\n",
       " 25,\n",
       " 34,\n",
       " 62,\n",
       " 16,\n",
       " 15,\n",
       " 52,\n",
       " 75,\n",
       " 32,\n",
       " 24,\n",
       " 0,\n",
       " 18,\n",
       " 88,\n",
       " 2,\n",
       " 70,\n",
       " 22,\n",
       " 12,\n",
       " 42,\n",
       " 55,\n",
       " 45,\n",
       " 36,\n",
       " 80,\n",
       " 98,\n",
       " 55,\n",
       " 60,\n",
       " 21,\n",
       " 22,\n",
       " 86,\n",
       " 93,\n",
       " 30,\n",
       " 49,\n",
       " 16,\n",
       " 49,\n",
       " 25,\n",
       " 89,\n",
       " 5,\n",
       " 99,\n",
       " 32,\n",
       " 3,\n",
       " 37,\n",
       " 46,\n",
       " 41,\n",
       " 51,\n",
       " 33,\n",
       " 13,\n",
       " 83,\n",
       " 6,\n",
       " 44,\n",
       " 75,\n",
       " 13,\n",
       " 45,\n",
       " 97,\n",
       " 32,\n",
       " 63,\n",
       " 92,\n",
       " 10,\n",
       " 2,\n",
       " 70,\n",
       " 74,\n",
       " 43,\n",
       " 76,\n",
       " 47,\n",
       " 22,\n",
       " 57,\n",
       " 48,\n",
       " 34,\n",
       " 26,\n",
       " 31,\n",
       " 28,\n",
       " 70,\n",
       " 89,\n",
       " 94,\n",
       " 57,\n",
       " 43,\n",
       " 27,\n",
       " 14,\n",
       " 97,\n",
       " 34,\n",
       " 25,\n",
       " 61,\n",
       " 50,\n",
       " 79,\n",
       " 60,\n",
       " 83,\n",
       " 34,\n",
       " 84,\n",
       " 40,\n",
       " 92,\n",
       " 17,\n",
       " 69,\n",
       " 41,\n",
       " 96,\n",
       " 32,\n",
       " 87,\n",
       " 5,\n",
       " 81,\n",
       " 85,\n",
       " 40,\n",
       " 90,\n",
       " 72,\n",
       " 53,\n",
       " 28,\n",
       " 92,\n",
       " 23,\n",
       " 56,\n",
       " 13,\n",
       " 85,\n",
       " 44,\n",
       " 4,\n",
       " 4,\n",
       " 84,\n",
       " 12,\n",
       " 50,\n",
       " 12,\n",
       " 85,\n",
       " 80,\n",
       " 6,\n",
       " 12,\n",
       " 13,\n",
       " 85,\n",
       " 88,\n",
       " 49,\n",
       " 24,\n",
       " 87,\n",
       " 27,\n",
       " 53,\n",
       " 98,\n",
       " 84,\n",
       " 69,\n",
       " 30,\n",
       " 66,\n",
       " 74,\n",
       " 53,\n",
       " 8,\n",
       " 40,\n",
       " 5,\n",
       " 57,\n",
       " 9,\n",
       " 71,\n",
       " 98,\n",
       " 62,\n",
       " 26,\n",
       " 10,\n",
       " 72,\n",
       " 29,\n",
       " 3,\n",
       " 32,\n",
       " 18,\n",
       " 25,\n",
       " 82,\n",
       " 46,\n",
       " 46,\n",
       " 42,\n",
       " 62,\n",
       " 89,\n",
       " 33,\n",
       " 71,\n",
       " 87,\n",
       " 46,\n",
       " 22,\n",
       " 86,\n",
       " 59,\n",
       " 20,\n",
       " 86,\n",
       " 89,\n",
       " 75,\n",
       " 6,\n",
       " 59,\n",
       " 74,\n",
       " 34,\n",
       " 58,\n",
       " 82,\n",
       " 7,\n",
       " 7,\n",
       " 29,\n",
       " 12,\n",
       " 62,\n",
       " 7,\n",
       " 25,\n",
       " 89,\n",
       " 92,\n",
       " 69,\n",
       " 67,\n",
       " 55,\n",
       " 62,\n",
       " 24,\n",
       " 89,\n",
       " 74,\n",
       " 61,\n",
       " 19,\n",
       " 90,\n",
       " 17,\n",
       " 33,\n",
       " 67,\n",
       " 46,\n",
       " 29,\n",
       " 58,\n",
       " 43,\n",
       " 22,\n",
       " 2,\n",
       " 49,\n",
       " 67,\n",
       " 50,\n",
       " 59,\n",
       " 86,\n",
       " 41,\n",
       " 36,\n",
       " 15,\n",
       " 81,\n",
       " 41,\n",
       " 45,\n",
       " 14,\n",
       " 85,\n",
       " 36,\n",
       " 15,\n",
       " 76,\n",
       " 83,\n",
       " 57,\n",
       " 78,\n",
       " 66,\n",
       " 34,\n",
       " 87,\n",
       " 34,\n",
       " 65,\n",
       " 31,\n",
       " 96,\n",
       " 58,\n",
       " 65,\n",
       " 92,\n",
       " 98,\n",
       " 11,\n",
       " 33,\n",
       " 52,\n",
       " 36,\n",
       " 20,\n",
       " 5,\n",
       " 55,\n",
       " 16,\n",
       " 24,\n",
       " 18,\n",
       " 18,\n",
       " 33,\n",
       " 56,\n",
       " 83,\n",
       " 72,\n",
       " 84,\n",
       " 39,\n",
       " 89,\n",
       " 9,\n",
       " 9,\n",
       " 99,\n",
       " 66,\n",
       " 33,\n",
       " 68,\n",
       " 27,\n",
       " 69,\n",
       " 60,\n",
       " 42,\n",
       " 24,\n",
       " 93,\n",
       " 74,\n",
       " 10,\n",
       " 53,\n",
       " 31,\n",
       " 30,\n",
       " 79,\n",
       " 38,\n",
       " 58,\n",
       " 7,\n",
       " 42,\n",
       " 36,\n",
       " 68,\n",
       " 11,\n",
       " 15,\n",
       " 75,\n",
       " 39,\n",
       " 91,\n",
       " 57,\n",
       " 49,\n",
       " 24,\n",
       " 92,\n",
       " 88,\n",
       " 49,\n",
       " 30,\n",
       " 14,\n",
       " 34,\n",
       " 80,\n",
       " 6,\n",
       " 39,\n",
       " 14,\n",
       " 28,\n",
       " 58,\n",
       " 30,\n",
       " 18,\n",
       " 76,\n",
       " 17,\n",
       " 50,\n",
       " 99,\n",
       " 69,\n",
       " 6,\n",
       " 67,\n",
       " 9,\n",
       " 83,\n",
       " 23,\n",
       " 29,\n",
       " 64,\n",
       " 57,\n",
       " 98,\n",
       " 47,\n",
       " 10,\n",
       " 5,\n",
       " 36,\n",
       " 74,\n",
       " 24,\n",
       " 19,\n",
       " 56,\n",
       " 71,\n",
       " 18,\n",
       " ...]"
      ]
     },
     "execution_count": 5,
     "metadata": {},
     "output_type": "execute_result"
    }
   ],
   "source": [
    "b = list(a)\n",
    "b"
   ]
  },
  {
   "cell_type": "code",
   "execution_count": 6,
   "metadata": {},
   "outputs": [
    {
     "data": {
      "text/plain": [
       "list"
      ]
     },
     "execution_count": 6,
     "metadata": {},
     "output_type": "execute_result"
    }
   ],
   "source": [
    "type(b)"
   ]
  },
  {
   "cell_type": "markdown",
   "metadata": {},
   "source": [
    "Comparemos el rendimiento de ambos"
   ]
  },
  {
   "cell_type": "code",
   "execution_count": 9,
   "metadata": {},
   "outputs": [
    {
     "name": "stdout",
     "output_type": "stream",
     "text": [
      "15.4 ms ± 1.12 ms per loop (mean ± std. dev. of 7 runs, 100 loops each)\n"
     ]
    }
   ],
   "source": [
    "%%timeit\n",
    "sum(b)"
   ]
  },
  {
   "cell_type": "code",
   "execution_count": 10,
   "metadata": {
    "scrolled": true
   },
   "outputs": [
    {
     "name": "stdout",
     "output_type": "stream",
     "text": [
      "144 µs ± 5.04 µs per loop (mean ± std. dev. of 7 runs, 10000 loops each)\n"
     ]
    }
   ],
   "source": [
    "%%timeit\n",
    "a.sum()"
   ]
  },
  {
   "cell_type": "markdown",
   "metadata": {},
   "source": [
    "En cada ejecucion los número aleatorios son distintos ... ¿cómo hago para que cada vez que corra el código sean los mismos?"
   ]
  },
  {
   "cell_type": "code",
   "execution_count": 40,
   "metadata": {},
   "outputs": [
    {
     "data": {
      "text/plain": [
       "array([1, 1, 1, 2, 1, 2, 2, 1, 0, 4])"
      ]
     },
     "execution_count": 40,
     "metadata": {},
     "output_type": "execute_result"
    }
   ],
   "source": [
    "#np.random.seed(123)\n",
    "np.random.binomial(5, 0.3, 10)"
   ]
  },
  {
   "cell_type": "code",
   "execution_count": 60,
   "metadata": {
    "scrolled": true
   },
   "outputs": [
    {
     "data": {
      "text/plain": [
       "array([1, 2, 1, 2, 2, 1, 1, 2, 3, 3])"
      ]
     },
     "execution_count": 60,
     "metadata": {},
     "output_type": "execute_result"
    }
   ],
   "source": [
    "np.random.seed(1234)\n",
    "np.random.binomial(5, 0.3, 10)"
   ]
  },
  {
   "cell_type": "code",
   "execution_count": 62,
   "metadata": {},
   "outputs": [
    {
     "data": {
      "text/plain": [
       "array([1, 0, 0, 1, 0, 1, 0, 0, 0, 1])"
      ]
     },
     "execution_count": 62,
     "metadata": {},
     "output_type": "execute_result"
    }
   ],
   "source": [
    "np.random.choice([0,1],10)"
   ]
  },
  {
   "cell_type": "markdown",
   "metadata": {},
   "source": [
    "Repliquemos el ejercio de las momendas"
   ]
  },
  {
   "cell_type": "code",
   "execution_count": 64,
   "metadata": {},
   "outputs": [],
   "source": [
    "def lanzarMonedas(nPar, l=10, mostrar=False):\n",
    "    \"\"\"\n",
    "    np, es número de participantes,\n",
    "    l, número de lanzamientos\n",
    "    Retorna la probabilidad de que salga cara.\n",
    "    \"\"\"\n",
    "    personas = np.zeros(l)\n",
    "    for i in range(nPar):\n",
    "        persona_i = np.random.choice([0,1],l)\n",
    "        if mostrar: print(persona_i)\n",
    "        personas += persona_i\n",
    "    return personas.sum()/(nPar*l) "
   ]
  },
  {
   "cell_type": "code",
   "execution_count": 70,
   "metadata": {},
   "outputs": [
    {
     "data": {
      "text/plain": [
       "0.500184"
      ]
     },
     "execution_count": 70,
     "metadata": {},
     "output_type": "execute_result"
    }
   ],
   "source": [
    "#%%timeit\n",
    "lanzarMonedas(100000)"
   ]
  },
  {
   "cell_type": "markdown",
   "metadata": {},
   "source": [
    "Puede haber una mejor implementacion, de manera matricial. "
   ]
  },
  {
   "cell_type": "code",
   "execution_count": 72,
   "metadata": {},
   "outputs": [],
   "source": [
    "def lanzarMonedaM(nPar, l=10, mostrar=False):\n",
    "    \"\"\"\n",
    "    np: es número de participantes,\n",
    "    l: número de lanzamientos\n",
    "    Retorna la probabilidad de que salga cara.\n",
    "    \"\"\"\n",
    "    personas = np.random.choice([0,1],(nPar,l))\n",
    "    return personas.sum()/(nPar*l) "
   ]
  },
  {
   "cell_type": "code",
   "execution_count": 75,
   "metadata": {},
   "outputs": [
    {
     "name": "stdout",
     "output_type": "stream",
     "text": [
      "36.1 ms ± 4.86 ms per loop (mean ± std. dev. of 7 runs, 10 loops each)\n"
     ]
    }
   ],
   "source": [
    "%%timeit\n",
    "lanzarMonedaM(100000)"
   ]
  },
  {
   "cell_type": "code",
   "execution_count": 76,
   "metadata": {},
   "outputs": [
    {
     "name": "stdout",
     "output_type": "stream",
     "text": [
      "9.86 s ± 3.6 s per loop (mean ± std. dev. of 7 runs, 1 loop each)\n"
     ]
    }
   ],
   "source": [
    "%%timeit\n",
    "lanzarMonedas(100000)"
   ]
  },
  {
   "cell_type": "markdown",
   "metadata": {},
   "source": [
    "# Las operaciones matriciales nos permiten ganar eficiencia en los tiempos de ejecución"
   ]
  },
  {
   "cell_type": "markdown",
   "metadata": {},
   "source": [
    "## Operaciones matriciales con NumPy"
   ]
  },
  {
   "cell_type": "markdown",
   "metadata": {},
   "source": [
    "$$\\begin{bmatrix}\n",
    "    x_{11} & x_{12} & x_{13} & \\dots  & x_{1m} \\\\\n",
    "    x_{21} & x_{22} & x_{23} & \\dots  & x_{2m} \\\\\n",
    "    \\vdots & \\vdots & \\vdots & \\ddots & \\vdots \\\\\n",
    "    x_{n1} & x_{n2} & x_{n3} & \\dots  & x_{nm}\n",
    "\\end{bmatrix} $$"
   ]
  },
  {
   "cell_type": "code",
   "execution_count": 77,
   "metadata": {},
   "outputs": [
    {
     "data": {
      "text/plain": [
       "matrix([[1, 2, 3],\n",
       "        [5, 8, 6]])"
      ]
     },
     "execution_count": 77,
     "metadata": {},
     "output_type": "execute_result"
    }
   ],
   "source": [
    "A = np.matrix([[1,2, 3],[5, 8, 6]])\n",
    "A"
   ]
  },
  {
   "cell_type": "code",
   "execution_count": 78,
   "metadata": {},
   "outputs": [
    {
     "data": {
      "text/plain": [
       "(2, 3)"
      ]
     },
     "execution_count": 78,
     "metadata": {},
     "output_type": "execute_result"
    }
   ],
   "source": [
    "A.shape  #Dimensiones "
   ]
  },
  {
   "cell_type": "code",
   "execution_count": 83,
   "metadata": {},
   "outputs": [
    {
     "data": {
      "text/plain": [
       "matrix([[1],\n",
       "        [5]])"
      ]
     },
     "execution_count": 83,
     "metadata": {},
     "output_type": "execute_result"
    }
   ],
   "source": [
    "A[:,0] #extraer elementos"
   ]
  },
  {
   "cell_type": "code",
   "execution_count": 96,
   "metadata": {},
   "outputs": [
    {
     "data": {
      "text/plain": [
       "array([[1., 1., 1.],\n",
       "       [1., 1., 1.]])"
      ]
     },
     "execution_count": 96,
     "metadata": {},
     "output_type": "execute_result"
    }
   ],
   "source": [
    "B = np.ones((2,3))\n",
    "B"
   ]
  },
  {
   "cell_type": "markdown",
   "metadata": {},
   "source": [
    "### Suma de matrices\n",
    "Ambas matrices deben tener exactamente la misma dimensión\n",
    "$$\\begin{bmatrix}\n",
    "    a_{1,1} & a_{1,2} & a_{1,3}  \\\\\n",
    "    a_{2,1} & a_{2,2} & a_{2,3}  \\\\\n",
    "\\end{bmatrix}  \n",
    " + \n",
    "\\begin{bmatrix}\n",
    "    b_{1,1} & b_{1,2} & b_{1,3}  \\\\\n",
    "    b_{2,1} & b_{2,2} & b_{2,3}  \\\\\n",
    "\\end{bmatrix}  \n",
    "= \n",
    "\\begin{bmatrix}\n",
    "    c_{1,1} & c_{1,2} & c_{1,3}  \\\\\n",
    "    c_{2,1} & c_{2,2} & c_{2,3}  \\\\\n",
    "\\end{bmatrix} \n",
    " $$"
   ]
  },
  {
   "cell_type": "code",
   "execution_count": 97,
   "metadata": {},
   "outputs": [
    {
     "data": {
      "text/plain": [
       "(2, 3)"
      ]
     },
     "execution_count": 97,
     "metadata": {},
     "output_type": "execute_result"
    }
   ],
   "source": [
    "B.shape"
   ]
  },
  {
   "cell_type": "code",
   "execution_count": 98,
   "metadata": {},
   "outputs": [
    {
     "data": {
      "text/plain": [
       "matrix([[0., 1., 2.],\n",
       "        [4., 7., 5.]])"
      ]
     },
     "execution_count": 98,
     "metadata": {},
     "output_type": "execute_result"
    }
   ],
   "source": [
    "C = A - B\n",
    "C"
   ]
  },
  {
   "cell_type": "markdown",
   "metadata": {},
   "source": [
    "### Multiplicación por un escalar\n",
    "k debe ser un escalar\n",
    "$$\n",
    "k\n",
    "\\begin{bmatrix}\n",
    "    1 & 2 & 3  \\\\\n",
    "    5 & 8 & 9  \\\\\n",
    "\\end{bmatrix}\n",
    "=\n",
    "\\begin{bmatrix}\n",
    "    1k & 2k & 3k  \\\\\n",
    "    5k & 8k & 9k  \\\\\n",
    "\\end{bmatrix}$$"
   ]
  },
  {
   "cell_type": "code",
   "execution_count": 93,
   "metadata": {},
   "outputs": [
    {
     "data": {
      "text/plain": [
       "matrix([[1, 2, 3],\n",
       "        [5, 8, 6]])"
      ]
     },
     "execution_count": 93,
     "metadata": {},
     "output_type": "execute_result"
    }
   ],
   "source": [
    "A"
   ]
  },
  {
   "cell_type": "code",
   "execution_count": 95,
   "metadata": {},
   "outputs": [
    {
     "data": {
      "text/plain": [
       "matrix([[ 3,  6,  9],\n",
       "        [15, 24, 18]])"
      ]
     },
     "execution_count": 95,
     "metadata": {},
     "output_type": "execute_result"
    }
   ],
   "source": [
    "k=3\n",
    "k*A"
   ]
  },
  {
   "cell_type": "markdown",
   "metadata": {},
   "source": [
    "### Multiplicaciones de matrices \n",
    "El número de columnas de la primera matriz debe ser el mismo que el número de filas de la segunda matriz"
   ]
  },
  {
   "cell_type": "markdown",
   "metadata": {},
   "source": [
    "$$\\begin{bmatrix}\n",
    "    a_{1,1} & a_{1,2}  \\\\\n",
    "    a_{2,1} & a_{2,2}  \\\\\n",
    "\\end{bmatrix}  \n",
    "\\begin{bmatrix}\n",
    "    b_{1,1} & b_{1,2}   \\\\\n",
    "    b_{2,1} & b_{2,2}  \\\\\n",
    "\\end{bmatrix}  \n",
    "= \n",
    "\\begin{bmatrix}\n",
    "    c_{1,1} & c_{1,2}  \\\\\n",
    "    c_{2,1} & c_{2,2}  \\\\\n",
    "\\end{bmatrix} \n",
    " $$\n",
    " donde:\n",
    " $$ c_{1,1} = a_{1,1}b_{1,1} + a_{1,2}b_{2,1} $$\n",
    " $$ \\vdots $$"
   ]
  },
  {
   "cell_type": "code",
   "execution_count": 99,
   "metadata": {},
   "outputs": [
    {
     "name": "stdout",
     "output_type": "stream",
     "text": [
      "(2, 3)\n",
      "(2, 3)\n"
     ]
    }
   ],
   "source": [
    "print(A.shape)\n",
    "print(B.shape)"
   ]
  },
  {
   "cell_type": "code",
   "execution_count": 100,
   "metadata": {},
   "outputs": [
    {
     "data": {
      "text/plain": [
       "matrix([[5, 2, 5, 7, 7],\n",
       "        [0, 6, 3, 8, 3],\n",
       "        [1, 7, 9, 6, 9],\n",
       "        [5, 2, 2, 2, 7],\n",
       "        [2, 2, 6, 5, 8]])"
      ]
     },
     "execution_count": 100,
     "metadata": {},
     "output_type": "execute_result"
    }
   ],
   "source": [
    "X = np.matrix(np.random.randint(0, 10 , (5,5)))\n",
    "X"
   ]
  },
  {
   "cell_type": "code",
   "execution_count": 101,
   "metadata": {},
   "outputs": [
    {
     "data": {
      "text/plain": [
       "matrix([[3, 7, 7, 3, 3],\n",
       "        [2, 9, 8, 4, 5],\n",
       "        [9, 8, 2, 8, 0],\n",
       "        [2, 7, 2, 4, 7],\n",
       "        [4, 5, 4, 6, 2]])"
      ]
     },
     "execution_count": 101,
     "metadata": {},
     "output_type": "execute_result"
    }
   ],
   "source": [
    "Y = np.matrix(np.random.randint(0, 10 , (5,5)))\n",
    "Y"
   ]
  },
  {
   "cell_type": "code",
   "execution_count": 103,
   "metadata": {
    "scrolled": false
   },
   "outputs": [
    {
     "data": {
      "text/plain": [
       "matrix([[106, 177, 103, 133,  88],\n",
       "        [ 67, 149,  82,  98,  92],\n",
       "        [146, 229, 129, 181,  98],\n",
       "        [ 69, 118,  87,  89,  53],\n",
       "        [106, 155,  84, 130,  67]])"
      ]
     },
     "execution_count": 103,
     "metadata": {},
     "output_type": "execute_result"
    }
   ],
   "source": [
    "X*Y # ambos elementos sean matrices"
   ]
  },
  {
   "cell_type": "code",
   "execution_count": 104,
   "metadata": {},
   "outputs": [
    {
     "data": {
      "text/plain": [
       "numpy.matrixlib.defmatrix.matrix"
      ]
     },
     "execution_count": 104,
     "metadata": {},
     "output_type": "execute_result"
    }
   ],
   "source": [
    "type(X)"
   ]
  },
  {
   "cell_type": "markdown",
   "metadata": {},
   "source": [
    "##### Transponiendo matrices"
   ]
  },
  {
   "cell_type": "code",
   "execution_count": 106,
   "metadata": {},
   "outputs": [
    {
     "data": {
      "text/plain": [
       "matrix([[5, 2, 5, 7, 7],\n",
       "        [0, 6, 3, 8, 3],\n",
       "        [1, 7, 9, 6, 9],\n",
       "        [5, 2, 2, 2, 7],\n",
       "        [2, 2, 6, 5, 8]])"
      ]
     },
     "execution_count": 106,
     "metadata": {},
     "output_type": "execute_result"
    }
   ],
   "source": [
    "X"
   ]
  },
  {
   "cell_type": "code",
   "execution_count": 105,
   "metadata": {},
   "outputs": [
    {
     "data": {
      "text/plain": [
       "matrix([[5, 0, 1, 5, 2],\n",
       "        [2, 6, 7, 2, 2],\n",
       "        [5, 3, 9, 2, 6],\n",
       "        [7, 8, 6, 2, 5],\n",
       "        [7, 3, 9, 7, 8]])"
      ]
     },
     "execution_count": 105,
     "metadata": {},
     "output_type": "execute_result"
    }
   ],
   "source": [
    "X.T  #.T , .transpose()"
   ]
  },
  {
   "cell_type": "markdown",
   "metadata": {},
   "source": [
    "##### Tener mucho cuidado con el tipo de dato con el que se esta operando\n",
    "$$@ != * != np.dot()$$"
   ]
  },
  {
   "cell_type": "code",
   "execution_count": 109,
   "metadata": {},
   "outputs": [],
   "source": [
    "J = np.random.randint(0, 10 , (5,5))\n",
    "K = np.random.randint(0, 10 , (5,5))"
   ]
  },
  {
   "cell_type": "code",
   "execution_count": 110,
   "metadata": {
    "scrolled": true
   },
   "outputs": [
    {
     "data": {
      "text/plain": [
       "array([[0, 5, 2, 6, 0],\n",
       "       [6, 9, 7, 9, 1],\n",
       "       [5, 1, 2, 7, 2],\n",
       "       [6, 9, 3, 6, 4],\n",
       "       [4, 1, 6, 6, 3]])"
      ]
     },
     "execution_count": 110,
     "metadata": {},
     "output_type": "execute_result"
    }
   ],
   "source": [
    "J"
   ]
  },
  {
   "cell_type": "code",
   "execution_count": 111,
   "metadata": {},
   "outputs": [
    {
     "data": {
      "text/plain": [
       "array([[6, 4, 0, 3, 9],\n",
       "       [3, 6, 7, 5, 2],\n",
       "       [9, 3, 8, 3, 2],\n",
       "       [1, 9, 5, 4, 0],\n",
       "       [6, 1, 4, 6, 7]])"
      ]
     },
     "execution_count": 111,
     "metadata": {},
     "output_type": "execute_result"
    }
   ],
   "source": [
    "K"
   ]
  },
  {
   "cell_type": "code",
   "execution_count": 118,
   "metadata": {},
   "outputs": [
    {
     "data": {
      "text/plain": [
       "array([[ 39,  90,  81,  55,  14],\n",
       "       [141, 181, 168, 126,  93],\n",
       "       [ 70,  97,  66,  66,  65],\n",
       "       [120, 145, 133, 120, 106],\n",
       "       [105,  97,  97,  77,  71]])"
      ]
     },
     "execution_count": 118,
     "metadata": {},
     "output_type": "execute_result"
    }
   ],
   "source": [
    "J@K"
   ]
  },
  {
   "cell_type": "code",
   "execution_count": 115,
   "metadata": {},
   "outputs": [
    {
     "data": {
      "text/plain": [
       "39"
      ]
     },
     "execution_count": 115,
     "metadata": {},
     "output_type": "execute_result"
    }
   ],
   "source": [
    "suma = 0\n",
    "for i in range(5):\n",
    "    suma += J[0,i]*K[i,0]\n",
    "suma"
   ]
  },
  {
   "cell_type": "code",
   "execution_count": 119,
   "metadata": {
    "scrolled": false
   },
   "outputs": [
    {
     "data": {
      "text/plain": [
       "array([[ 39,  90,  81,  55,  14],\n",
       "       [141, 181, 168, 126,  93],\n",
       "       [ 70,  97,  66,  66,  65],\n",
       "       [120, 145, 133, 120, 106],\n",
       "       [105,  97,  97,  77,  71]])"
      ]
     },
     "execution_count": 119,
     "metadata": {},
     "output_type": "execute_result"
    }
   ],
   "source": [
    "np.dot(J,K)"
   ]
  },
  {
   "cell_type": "markdown",
   "metadata": {},
   "source": [
    "## Array NO ES IGUAL a matriz"
   ]
  },
  {
   "cell_type": "markdown",
   "metadata": {},
   "source": [
    "##### Inversa de la matriz"
   ]
  },
  {
   "cell_type": "code",
   "execution_count": 120,
   "metadata": {},
   "outputs": [
    {
     "data": {
      "text/plain": [
       "array([[-0.24330692,  0.14414221,  0.1432855 , -0.01049475, -0.12957807],\n",
       "       [ 0.03191262,  0.03127008, -0.08481474,  0.07796102, -0.05782823],\n",
       "       [-0.04562005,  0.08952667, -0.16063397, -0.06446777,  0.16320411],\n",
       "       [ 0.1552795 , -0.05590062,  0.1242236 , -0.04347826, -0.00621118],\n",
       "       [ 0.09445277, -0.26986507, -0.08995502,  0.20389805,  0.2113943 ]])"
      ]
     },
     "execution_count": 120,
     "metadata": {},
     "output_type": "execute_result"
    }
   ],
   "source": [
    "L = np.matrix(J)\n",
    "np.linalg.inv(J)"
   ]
  },
  {
   "cell_type": "markdown",
   "metadata": {},
   "source": [
    "#### Manipulación de arrays en numpy"
   ]
  },
  {
   "cell_type": "code",
   "execution_count": 147,
   "metadata": {},
   "outputs": [],
   "source": [
    "A1 = np.random.random_sample(16)"
   ]
  },
  {
   "cell_type": "code",
   "execution_count": 148,
   "metadata": {
    "scrolled": true
   },
   "outputs": [
    {
     "data": {
      "text/plain": [
       "array([0.10339502, 0.17139543, 0.61712533, 0.39335088, 0.69017821,\n",
       "       0.43819065, 0.75292694, 0.43262232, 0.82969138, 0.08794322,\n",
       "       0.70816281, 0.32325738, 0.64955715, 0.54874835, 0.78068713,\n",
       "       0.36844945])"
      ]
     },
     "execution_count": 148,
     "metadata": {},
     "output_type": "execute_result"
    }
   ],
   "source": [
    "A1"
   ]
  },
  {
   "cell_type": "code",
   "execution_count": 149,
   "metadata": {},
   "outputs": [
    {
     "data": {
      "text/plain": [
       "array([[0.10339502, 0.69017821, 0.82969138, 0.64955715],\n",
       "       [0.17139543, 0.43819065, 0.08794322, 0.54874835],\n",
       "       [0.61712533, 0.75292694, 0.70816281, 0.78068713],\n",
       "       [0.39335088, 0.43262232, 0.32325738, 0.36844945]])"
      ]
     },
     "execution_count": 149,
     "metadata": {},
     "output_type": "execute_result"
    }
   ],
   "source": [
    "A1.reshape((4,4),order=\"F\")"
   ]
  },
  {
   "cell_type": "code",
   "execution_count": 150,
   "metadata": {
    "scrolled": true
   },
   "outputs": [
    {
     "data": {
      "text/plain": [
       "array([[0.10339502, 0.17139543, 0.61712533, 0.39335088],\n",
       "       [0.69017821, 0.43819065, 0.75292694, 0.43262232],\n",
       "       [0.82969138, 0.08794322, 0.70816281, 0.32325738],\n",
       "       [0.64955715, 0.54874835, 0.78068713, 0.36844945]])"
      ]
     },
     "execution_count": 150,
     "metadata": {},
     "output_type": "execute_result"
    }
   ],
   "source": [
    "A2 = A1.reshape((4,4))\n",
    "A2 # Copiar sin copy "
   ]
  },
  {
   "cell_type": "code",
   "execution_count": 151,
   "metadata": {},
   "outputs": [
    {
     "data": {
      "text/plain": [
       "array([[0.10339502, 0.17139543, 0.61712533, 0.39335088],\n",
       "       [0.69017821, 0.43819065, 0.75292694, 0.43262232],\n",
       "       [0.82969138, 0.08794322, 0.70816281, 0.32325738],\n",
       "       [0.64955715, 0.54874835, 0.78068713, 0.36844945]])"
      ]
     },
     "execution_count": 151,
     "metadata": {},
     "output_type": "execute_result"
    }
   ],
   "source": [
    "A2"
   ]
  },
  {
   "cell_type": "code",
   "execution_count": 152,
   "metadata": {},
   "outputs": [
    {
     "data": {
      "text/plain": [
       "array([[0.10339502, 0.17139543, 0.61712533, 0.39335088],\n",
       "       [1.        , 1.        , 1.        , 1.        ],\n",
       "       [0.82969138, 0.08794322, 0.70816281, 0.32325738],\n",
       "       [0.64955715, 0.54874835, 0.78068713, 0.36844945]])"
      ]
     },
     "execution_count": 152,
     "metadata": {},
     "output_type": "execute_result"
    }
   ],
   "source": [
    "A2[1] = np.arange(1,2)\n",
    "A2"
   ]
  },
  {
   "cell_type": "code",
   "execution_count": 156,
   "metadata": {},
   "outputs": [
    {
     "data": {
      "text/plain": [
       "array([[0.10339502, 0.17139543, 0.61712533, 0.39335088],\n",
       "       [1.        , 1.        , 1.        , 1.        ],\n",
       "       [0.82969138, 0.08794322, 0.70816281, 0.32325738],\n",
       "       [0.64955715, 0.54874835, 0.78068713, 0.36844945]])"
      ]
     },
     "execution_count": 156,
     "metadata": {},
     "output_type": "execute_result"
    }
   ],
   "source": [
    "A2"
   ]
  },
  {
   "cell_type": "code",
   "execution_count": 154,
   "metadata": {},
   "outputs": [],
   "source": [
    "A3 = A2.copy()\n",
    "A3[:,0] = 0"
   ]
  },
  {
   "cell_type": "code",
   "execution_count": 155,
   "metadata": {},
   "outputs": [
    {
     "data": {
      "text/plain": [
       "array([[0.        , 0.17139543, 0.61712533, 0.39335088],\n",
       "       [0.        , 1.        , 1.        , 1.        ],\n",
       "       [0.        , 0.08794322, 0.70816281, 0.32325738],\n",
       "       [0.        , 0.54874835, 0.78068713, 0.36844945]])"
      ]
     },
     "execution_count": 155,
     "metadata": {},
     "output_type": "execute_result"
    }
   ],
   "source": [
    "A3"
   ]
  },
  {
   "cell_type": "markdown",
   "metadata": {},
   "source": [
    "Ampliar las matrices"
   ]
  },
  {
   "cell_type": "code",
   "execution_count": 157,
   "metadata": {},
   "outputs": [
    {
     "data": {
      "text/plain": [
       "array([[ 9,  5,  8,  4],\n",
       "       [ 3,  6,  3,  2],\n",
       "       [ 6, 10,  2,  2],\n",
       "       [ 6,  9,  7,  9]])"
      ]
     },
     "execution_count": 157,
     "metadata": {},
     "output_type": "execute_result"
    }
   ],
   "source": [
    "A3 = np.random.randint(1,11,(4,4))\n",
    "A3"
   ]
  },
  {
   "cell_type": "code",
   "execution_count": 163,
   "metadata": {},
   "outputs": [],
   "source": [
    "A4 = np.hstack((A2,A3)) #np.?stack()"
   ]
  },
  {
   "cell_type": "code",
   "execution_count": 170,
   "metadata": {
    "scrolled": true
   },
   "outputs": [],
   "source": [
    "A4 = A4.flatten()"
   ]
  },
  {
   "cell_type": "markdown",
   "metadata": {},
   "source": [
    "max, min, sum, mean, std, argmax, argmin"
   ]
  },
  {
   "cell_type": "code",
   "execution_count": 175,
   "metadata": {},
   "outputs": [
    {
     "data": {
      "text/plain": [
       "3.143180110511286"
      ]
     },
     "execution_count": 175,
     "metadata": {},
     "output_type": "execute_result"
    }
   ],
   "source": [
    "A4.mean()"
   ]
  },
  {
   "cell_type": "code",
   "execution_count": 173,
   "metadata": {},
   "outputs": [
    {
     "data": {
      "text/plain": [
       "10.0"
      ]
     },
     "execution_count": 173,
     "metadata": {},
     "output_type": "execute_result"
    }
   ],
   "source": [
    "A4[21]"
   ]
  },
  {
   "cell_type": "markdown",
   "metadata": {},
   "source": [
    "Condiciones lógicas y máscaras"
   ]
  },
  {
   "cell_type": "code",
   "execution_count": 180,
   "metadata": {
    "scrolled": true
   },
   "outputs": [
    {
     "data": {
      "text/plain": [
       "array([ True,  True,  True,  True, False, False, False, False,  True,\n",
       "        True,  True,  True,  True, False,  True,  True,  True,  True,\n",
       "        True,  True, False, False,  True,  True,  True,  True,  True,\n",
       "        True, False, False, False, False])"
      ]
     },
     "execution_count": 180,
     "metadata": {},
     "output_type": "execute_result"
    }
   ],
   "source": [
    "A4 < A4.mean()"
   ]
  },
  {
   "cell_type": "markdown",
   "metadata": {},
   "source": [
    "## Ejercicio 1\n",
    "![alt-text](img/ajedrez.png)"
   ]
  },
  {
   "cell_type": "markdown",
   "metadata": {},
   "source": [
    "Crea una _**array**_ de numpy que simule un tablero de ajedrez en la posición inicial, con las siguientes características: \n",
    "* casillas blancas con \"W\"\n",
    "* casillas negras como \"B\".\n",
    "* además los peones con \"P\", torres con \"T\", caballos con \"C\", alfiles con \"A\", reina con \"Q\" y rey con \"R\". (Aquellas casillas donde existan piezas no es necesario que se muestre el color) \n"
   ]
  },
  {
   "cell_type": "code",
   "execution_count": 46,
   "metadata": {},
   "outputs": [],
   "source": [
    "#ISML-W1-E1 No borrar esta línea!\n",
    "#####################################\n",
    "#tu código aquí\n",
    "\n",
    "\n",
    "\n",
    "#####################################"
   ]
  },
  {
   "cell_type": "markdown",
   "metadata": {},
   "source": [
    "### Ejercicio 2\n",
    "Resuelve el siguiente sistema de ecuaciones con **operaciones matriciales** en numpy.  "
   ]
  },
  {
   "cell_type": "markdown",
   "metadata": {},
   "source": [
    "$$\n",
    "\\left.\n",
    "\\begin{array}{rcl}\n",
    "     4x+8y-z & = & -1\n",
    "  \\\\ x-2y +z & = & 5\n",
    "  \\\\ 3x+2y+2z & = & 12\n",
    "\\end{array}\n",
    "\\right\\}\n",
    "$$"
   ]
  },
  {
   "cell_type": "code",
   "execution_count": 47,
   "metadata": {},
   "outputs": [],
   "source": [
    "#ISML-W1-E2 No borrar esta línea!\n",
    "#####################################\n",
    "#tu código aquí\n",
    "\n",
    "\n",
    "\n",
    "#####################################"
   ]
  },
  {
   "cell_type": "markdown",
   "metadata": {},
   "source": [
    "[![alt-text](img/cdd-lp-gray.png)](https://www.facebook.com/ccd.bolivia.bo/)"
   ]
  }
 ],
 "metadata": {
  "kernelspec": {
   "display_name": "Python 3",
   "language": "python",
   "name": "python3"
  },
  "language_info": {
   "codemirror_mode": {
    "name": "ipython",
    "version": 3
   },
   "file_extension": ".py",
   "mimetype": "text/x-python",
   "name": "python",
   "nbconvert_exporter": "python",
   "pygments_lexer": "ipython3",
   "version": "3.6.3"
  }
 },
 "nbformat": 4,
 "nbformat_minor": 2
}

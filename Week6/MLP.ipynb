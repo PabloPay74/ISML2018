{
 "cells": [
  {
   "cell_type": "code",
   "execution_count": 1,
   "metadata": {},
   "outputs": [],
   "source": [
    "import numpy as np\n",
    "import cv2\n",
    "#from keras.datasets import mnist\n",
    "from tqdm import tqdm\n",
    "from sklearn.metrics import accuracy_score, confusion_matrix\n",
    "import matplotlib.pyplot as plt"
   ]
  },
  {
   "cell_type": "markdown",
   "metadata": {},
   "source": [
    "# Dataset"
   ]
  },
  {
   "cell_type": "code",
   "execution_count": 2,
   "metadata": {},
   "outputs": [],
   "source": [
    "# (x_train, y_train), (x_test, y_test) = mnist.load_data()"
   ]
  },
  {
   "cell_type": "code",
   "execution_count": 3,
   "metadata": {},
   "outputs": [],
   "source": [
    "# x_train = x_train.astype(float) / 255.\n",
    "# x_test = x_test.astype(float) / 255.\n",
    "\n",
    "# # extraemos los últimos 10K datos para validación\n",
    "# x_train, x_val = x_train[:-10000], x_train[-10000:]\n",
    "# y_train, y_val = y_train[:-10000], y_train[-10000:]\n",
    "\n",
    "# x_train = x_train.reshape([x_train.shape[0], -1])\n",
    "# x_val = x_val.reshape([x_val.shape[0], -1])\n",
    "# x_test = x_test.reshape([x_test.shape[0], -1])"
   ]
  },
  {
   "cell_type": "code",
   "execution_count": 4,
   "metadata": {},
   "outputs": [],
   "source": [
    "# ####ONE HOT ENCODE####\n",
    "# new_y_train = np.zeros((y_train.shape[0], 10))\n",
    "# new_y_train[range(len(y_train)), y_train] = 1\n",
    "\n",
    "# new_y_val = np.zeros((y_val.shape[0], 10))\n",
    "# new_y_val[range(len(y_val)), y_val] = 1\n",
    "\n",
    "# new_y_test = np.zeros((y_test.shape[0], 10))\n",
    "# new_y_test[range(len(y_test)), y_test] = 1"
   ]
  },
  {
   "cell_type": "code",
   "execution_count": 5,
   "metadata": {},
   "outputs": [],
   "source": [
    "# np.save('x_train', x_train)\n",
    "# np.save('y_train', new_y_train)\n",
    "# np.save('x_val', x_val)\n",
    "# np.save('y_val', new_y_val)\n",
    "# np.save('x_test', x_test)\n",
    "# np.save('y_test', new_y_test)"
   ]
  },
  {
   "cell_type": "code",
   "execution_count": 6,
   "metadata": {},
   "outputs": [],
   "source": [
    "x_train = np.load('x_train.npy')\n",
    "y_train = np.load('y_train.npy')\n",
    "x_val = np.load('x_val.npy')\n",
    "y_val = np.load('y_val.npy')\n",
    "x_test = np.load('x_test.npy')\n",
    "y_test = np.load('y_test.npy')"
   ]
  },
  {
   "cell_type": "code",
   "execution_count": 7,
   "metadata": {},
   "outputs": [
    {
     "name": "stdout",
     "output_type": "stream",
     "text": [
      "(50000, 784)\n",
      "(50000, 10)\n",
      "(10000, 784)\n",
      "(10000, 10)\n",
      "(10000, 784)\n",
      "(10000, 10)\n"
     ]
    }
   ],
   "source": [
    "print(x_train.shape)\n",
    "print(y_train.shape)\n",
    "print(x_val.shape)\n",
    "print(y_val.shape)\n",
    "print(x_test.shape)\n",
    "print(y_test.shape)"
   ]
  },
  {
   "cell_type": "markdown",
   "metadata": {},
   "source": [
    "# Softmax and Cross Entropy"
   ]
  },
  {
   "cell_type": "code",
   "execution_count": 8,
   "metadata": {},
   "outputs": [],
   "source": [
    "def stable_softmax(Z):\n",
    "    exps = np.exp(Z - np.max(Z))\n",
    "    return exps / exps.sum(axis=-1,keepdims=True) ##Sumatoria se realiza para cada fila"
   ]
  },
  {
   "cell_type": "code",
   "execution_count": 9,
   "metadata": {},
   "outputs": [],
   "source": [
    "def grad_softmax_crossentropy(Y_hat, Y):\n",
    "    \"\"\"\n",
    "    Y: Etiquetas de tamaño (m, c) //m: nro ejemplos, c: nro clases\n",
    "    Y_hat: Predicciones (stable softmax) de tamaño (m, c) //m: nro ejemplos, c: nro clases\n",
    "    \"\"\"\n",
    "    return (Y_hat - Y) / Y.shape[0] ## . /len(Y_hat) es el término (1/m)"
   ]
  },
  {
   "cell_type": "code",
   "execution_count": 10,
   "metadata": {},
   "outputs": [],
   "source": [
    "def cross_entropy_with_logits(Z: np.ndarray, Y: np.ndarray):\n",
    "    \"\"\"\n",
    "    Z: La predicción de la última capa sin activar (m, c)\n",
    "    Y: El vector de etiquetas sin one hot encoding (m,). Si es de tamaño (m, c) se extraerá solo\n",
    "    \"\"\"\n",
    "    if len(Y.shape) > 1:\n",
    "        Y = Y.argmax(axis=-1)\n",
    "    \n",
    "    Z_j = Z[range(len(Z)), Y] ## LA PREDICCIÓN SIN ACTIVAR EN LA COLUMNA DEL Y CORRESPONDIENTE\n",
    "    loss = - Z_j + np.log(np.sum(np.exp(Z),axis=-1)) ## LOG SOFTMAX CON LA SUMATORI PARA CADA FILA\n",
    "    \n",
    "    return loss"
   ]
  },
  {
   "cell_type": "markdown",
   "metadata": {},
   "source": [
    "# Softmax Regression"
   ]
  },
  {
   "cell_type": "code",
   "execution_count": 11,
   "metadata": {},
   "outputs": [],
   "source": [
    "def predict(theta, x, bias):\n",
    "    return stable_softmax(x @ theta + bias)"
   ]
  },
  {
   "cell_type": "code",
   "execution_count": 12,
   "metadata": {
    "scrolled": true
   },
   "outputs": [
    {
     "name": "stderr",
     "output_type": "stream",
     "text": [
      "100%|██████████| 500/500 [02:38<00:00,  3.15it/s]\n"
     ]
    }
   ],
   "source": [
    "####INITIALIZE THETAS####\n",
    "input_size = 784\n",
    "n_classes = 10\n",
    "lr = 0.01\n",
    "\n",
    "θ = np.random.randn(input_size, n_classes) * np.sqrt(2.0/input_size)\n",
    "b = np.zeros(n_classes)\n",
    "\n",
    "train_losses = []\n",
    "val_losses = []\n",
    "iters = 500\n",
    "for it in tqdm(range(iters)):\n",
    "#for it in range(iters):\n",
    "    Z = x_train @ θ + b\n",
    "    \n",
    "    loss = cross_entropy_with_logits(Z, y_train)\n",
    "    train_losses.append(loss.mean())\n",
    "    val_losses.append(cross_entropy_with_logits(x_val@θ+b, y_val).mean())\n",
    "    \n",
    "    y_hat = stable_softmax(Z)\n",
    "    \n",
    "    dZ = grad_softmax_crossentropy(y_hat, y_train)\n",
    "    dθ = x_train.T @ dZ\n",
    "    db = dZ.sum(axis=0)\n",
    "    \n",
    "    θ = θ - lr*dθ\n",
    "    b = b - lr*db"
   ]
  },
  {
   "cell_type": "code",
   "execution_count": 13,
   "metadata": {},
   "outputs": [
    {
     "data": {
      "image/png": "[encoded data removed]",
      "text/plain": [
       "<Figure size 432x288 with 1 Axes>"
      ]
     },
     "metadata": {},
     "output_type": "display_data"
    }
   ],
   "source": [
    "plt.plot(train_losses)\n",
    "plt.plot(val_losses)\n",
    "plt.show()"
   ]
  },
  {
   "cell_type": "code",
   "execution_count": 14,
   "metadata": {},
   "outputs": [
    {
     "data": {
      "text/plain": [
       "0.843"
      ]
     },
     "execution_count": 14,
     "metadata": {},
     "output_type": "execute_result"
    }
   ],
   "source": [
    "accuracy_score(np.argmax(predict(θ, x_test, b), axis=1), np.argmax(y_test, axis=1))"
   ]
  },
  {
   "cell_type": "code",
   "execution_count": 15,
   "metadata": {},
   "outputs": [
    {
     "data": {
      "text/plain": [
       "array([[ 932,    0,   14,    5,    4,   31,   23,    7,   16,   20],\n",
       "       [   0, 1083,   27,    5,   12,   27,    6,   42,   29,   17],\n",
       "       [   1,    9,  841,   21,    7,    6,   16,   29,   15,    8],\n",
       "       [   4,    5,   32,  872,    0,  118,    2,    1,   49,   16],\n",
       "       [   1,    0,   23,    1,  840,   30,   27,   10,   10,   70],\n",
       "       [   5,    4,    1,   26,    0,  562,   16,    0,   32,    7],\n",
       "       [  22,    4,   22,    7,   23,   22,  860,    3,   25,    3],\n",
       "       [   1,    0,   20,   24,    4,   16,    0,  869,   16,   35],\n",
       "       [  13,   30,   44,   32,    9,   60,    7,   15,  754,   16],\n",
       "       [   1,    0,    8,   17,   83,   20,    1,   52,   28,  817]])"
      ]
     },
     "execution_count": 15,
     "metadata": {},
     "output_type": "execute_result"
    }
   ],
   "source": [
    "confusion_matrix(np.argmax(predict(θ, x_test, b), axis=1), np.argmax(y_test, axis=1))"
   ]
  },
  {
   "cell_type": "markdown",
   "metadata": {},
   "source": [
    "# Red Neuronal\n",
    "\n",
    "## Capas"
   ]
  },
  {
   "cell_type": "code",
   "execution_count": 16,
   "metadata": {},
   "outputs": [],
   "source": [
    "class Layer:\n",
    "    \"\"\"\n",
    "    Bloque base para definición de una capa\n",
    "    \"\"\"\n",
    "    def __init__(self):\n",
    "        \"\"\"Inicialización de parámetros.\"\"\"\n",
    "        # A dummy layer does nothing\n",
    "        pass\n",
    "    \n",
    "    def forward(self, input):\n",
    "        \"\"\"\n",
    "        Recibe [batch, input_units], Y devuelve [batch, output_units]\n",
    "        \"\"\"\n",
    "        # A dummy layer just returns whatever it gets as input.\n",
    "        return input\n",
    "\n",
    "    def backward(self, input, grad_output):\n",
    "        \"\"\"\n",
    "        Aplicamos Backpropagation\n",
    "        \n",
    "        d loss / d x  = (d loss / d layer) * (d layer / d x)\n",
    "        \n",
    "        Se recibe d loss / d layer como entrada, así que sólo se debe multiplicar por d layer / d x.\n",
    "        \n",
    "        Si la capa tiene parámetros, se deben actualizar sus valores d loss / d layer\n",
    "        \"\"\"\n",
    "        num_units = input.shape[1]\n",
    "        \n",
    "        d_layer_d_input = np.eye(num_units)\n",
    "        \n",
    "        return np.dot(grad_output, d_layer_d_input)"
   ]
  },
  {
   "cell_type": "code",
   "execution_count": 17,
   "metadata": {},
   "outputs": [],
   "source": [
    "class ReLU(Layer):\n",
    "    def __init__(self):\n",
    "        \"\"\"No tiene parámetros entrenables\"\"\"\n",
    "        pass\n",
    "    \n",
    "    def forward(self, input):\n",
    "        \"\"\"Aplica ReLU a [batch, input_units]\"\"\"\n",
    "        return np.maximum(0,input)\n",
    "    \n",
    "    def backward(self, input, grad_output):\n",
    "        \"\"\"Computa gradiente de loss respecto a ReLU\"\"\"\n",
    "        relu_grad = input > 0\n",
    "        return grad_output*relu_grad    #dL/dZ[l]    "
   ]
  },
  {
   "cell_type": "code",
   "execution_count": 18,
   "metadata": {},
   "outputs": [],
   "source": [
    "class Dense(Layer):\n",
    "    def __init__(self, input_units, output_units, learning_rate=0.01, initializer='standard'):\n",
    "        \"\"\"\n",
    "        Una capa densa que realiza un mapeo entre espacios:\n",
    "        f(x) = <W*x> + b\n",
    "        \"\"\"\n",
    "        self.learning_rate = learning_rate\n",
    "        np.random.normal()\n",
    "        \n",
    "        ###PODEMOS ELEGIR LA FORMA DE INICIALIZACIÓN, LA ESTÁNDAR Y LA XAVIER###\n",
    "        scaler = 0.01 if initializer == 'standard' else np.sqrt(2.0/input_units)\n",
    "        \n",
    "        self.weights = np.random.randn(input_units, output_units)*scaler\n",
    "        self.biases = np.zeros(output_units)\n",
    "        \n",
    "    def forward(self,input):\n",
    "        \"\"\"\n",
    "        input shape: [batch, input_units]\n",
    "        output shape: [batch, output units]\n",
    "        \"\"\"\n",
    "        return input @ self.weights + self.biases #<your code here>\n",
    "    \n",
    "    def backward(self,input,grad_output):\n",
    "        # Calculamos dL/dA[l-1]\n",
    "        grad_input = grad_output @ self.weights.T #dL/dAl-1 = <dL/dZ[l], w[l]'> -> dL/dX\n",
    "        \n",
    "        # Calculamos para los pesos y los bias\n",
    "        grad_weights = input.T @ grad_output #dL/dW[l] = <A[l]-1', dL/dZ[l]> -> dL/dθ\n",
    "        grad_biases = np.sum(grad_output, axis=0) #dL/db[l] = sum_rows(b[l])\n",
    "        \n",
    "        assert grad_weights.shape == self.weights.shape and grad_biases.shape == self.biases.shape\n",
    "        \n",
    "        # Actualizamos parámetros\n",
    "        self.weights = self.weights - self.learning_rate * grad_weights\n",
    "        self.biases = self.biases - self.learning_rate * grad_biases\n",
    "\n",
    "        return grad_input ## Retornamos grad para la anterior capa"
   ]
  },
  {
   "cell_type": "markdown",
   "metadata": {},
   "source": [
    "## Entrenamiento"
   ]
  },
  {
   "cell_type": "code",
   "execution_count": 19,
   "metadata": {},
   "outputs": [],
   "source": [
    "def forward(network, X):\n",
    "    \"\"\"\n",
    "    Damos una pasada por toda la red propagando la información hacia delante.\n",
    "    \"\"\"\n",
    "    activations = []\n",
    "    input = X\n",
    "\n",
    "    for layer in network:\n",
    "        input = layer.forward(input)\n",
    "        activations.append(input)    \n",
    "        \n",
    "    assert len(activations) == len(network)\n",
    "    return activations\n",
    "\n",
    "def predict(network,X):\n",
    "    \"\"\"\n",
    "    Calculamos un vector de predicciones\n",
    "    \"\"\"\n",
    "    logits = forward(network,X)[-1]\n",
    "    preds = stable_softmax(logits)\n",
    "    #return logits.argmax(axis=-1) #Max element of each row\n",
    "    return preds.argmax(axis=-1)\n",
    "\n",
    "def train(network,X,y):\n",
    "    \"\"\"\n",
    "    Realizar un paso de entrenamiento, un forward pass y un backward pass, junto con una actualización de pesos.\n",
    "    \"\"\"\n",
    "    \n",
    "    # Obtener activaciones\n",
    "    layer_activations = forward(network,X)\n",
    "    layer_inputs = [X]+layer_activations  #layer_input[i] es una entrada para network[i]\n",
    "    logits = layer_activations[-1] #extraemos la última capa sin activar\n",
    "    \n",
    "    # Calculamos el Loss y el gradiente inicial para retropopagar\n",
    "    loss = cross_entropy_with_logits(logits,y)\n",
    "    loss_grad = grad_softmax_crossentropy(stable_softmax(logits),y)\n",
    "    \n",
    "    # Retropopagamos\n",
    "    for layer, input in zip(reversed(network), reversed(layer_inputs[:-1])):\n",
    "        loss_grad = layer.backward(input, loss_grad)\n",
    "        \n",
    "    return np.mean(loss)"
   ]
  },
  {
   "cell_type": "code",
   "execution_count": 20,
   "metadata": {},
   "outputs": [],
   "source": [
    "network = []\n",
    "network.append(Dense(x_train.shape[1],100))\n",
    "network.append(ReLU())\n",
    "network.append(Dense(100,200))\n",
    "network.append(ReLU())\n",
    "network.append(Dense(200,10))"
   ]
  },
  {
   "cell_type": "code",
   "execution_count": 21,
   "metadata": {},
   "outputs": [
    {
     "data": {
      "text/plain": [
       "2.3025220265031954"
      ]
     },
     "execution_count": 21,
     "metadata": {},
     "output_type": "execute_result"
    }
   ],
   "source": [
    "train(network, x_train[:100, :], y_train[:100])"
   ]
  },
  {
   "cell_type": "code",
   "execution_count": 22,
   "metadata": {},
   "outputs": [],
   "source": [
    "from tqdm import trange\n",
    "def iterate_minibatches(inputs, targets, batchsize, shuffle=False):\n",
    "    assert len(inputs) == len(targets)\n",
    "    if shuffle:\n",
    "        indices = np.random.permutation(len(inputs))\n",
    "    for start_idx in trange(0, len(inputs) - batchsize + 1, batchsize):\n",
    "        if shuffle:\n",
    "            excerpt = indices[start_idx:start_idx + batchsize]\n",
    "        else:\n",
    "            excerpt = slice(start_idx, start_idx + batchsize)\n",
    "        yield inputs[excerpt], targets[excerpt]"
   ]
  },
  {
   "cell_type": "markdown",
   "metadata": {},
   "source": [
    "## Entrenando la Red"
   ]
  },
  {
   "cell_type": "code",
   "execution_count": 23,
   "metadata": {},
   "outputs": [],
   "source": [
    "from IPython.display import clear_output\n",
    "train_log = []\n",
    "val_log = []"
   ]
  },
  {
   "cell_type": "code",
   "execution_count": 24,
   "metadata": {},
   "outputs": [
    {
     "name": "stdout",
     "output_type": "stream",
     "text": [
      "Epoch 24\n",
      "Train accuracy: 0.97418\n",
      "Val accuracy: 0.9664\n"
     ]
    },
    {
     "data": {
      "image/png": "[encoded data removed]",
      "text/plain": [
       "<Figure size 432x288 with 1 Axes>"
      ]
     },
     "metadata": {},
     "output_type": "display_data"
    }
   ],
   "source": [
    "for epoch in range(25):\n",
    "\n",
    "    for x_batch,y_batch in iterate_minibatches(x_train,y_train,batchsize=32,shuffle=True):\n",
    "        train(network,x_batch,y_batch)\n",
    "    \n",
    "    args_y_train = np.argmax(y_train, axis=-1)\n",
    "    args_y_val = np.argmax(y_val, axis=-1)\n",
    "    train_log.append(np.mean(predict(network,x_train)==args_y_train))\n",
    "    val_log.append(np.mean(predict(network,x_val)==args_y_val))\n",
    "    \n",
    "    clear_output()\n",
    "    print(\"Epoch\",epoch)\n",
    "    print(\"Train accuracy:\",train_log[-1])\n",
    "    print(\"Val accuracy:\",val_log[-1])\n",
    "    plt.plot(train_log,label='train accuracy')\n",
    "    plt.plot(val_log,label='val accuracy')\n",
    "    plt.legend(loc='best')\n",
    "    plt.grid()\n",
    "    plt.show()\n",
    "    "
   ]
  },
  {
   "cell_type": "code",
   "execution_count": 25,
   "metadata": {},
   "outputs": [
    {
     "data": {
      "text/plain": [
       "0.965"
      ]
     },
     "execution_count": 25,
     "metadata": {},
     "output_type": "execute_result"
    }
   ],
   "source": [
    "accuracy_score(predict(network, x_test), np.argmax(y_test, axis=-1))"
   ]
  },
  {
   "cell_type": "code",
   "execution_count": 26,
   "metadata": {},
   "outputs": [
    {
     "data": {
      "text/plain": [
       "array([[ 962,    0,    5,    0,    0,    3,    5,    1,    2,    5],\n",
       "       [   0, 1119,    3,    1,    0,    1,    3,    8,    6,    9],\n",
       "       [   1,    3, 1003,    5,    5,    0,    3,   13,    2,    0],\n",
       "       [   1,    2,    8,  981,    0,   16,    0,    5,    7,    8],\n",
       "       [   1,    0,    4,    1,  961,    4,    9,    1,    6,   24],\n",
       "       [   3,    2,    0,    6,    0,  842,    7,    1,   10,    5],\n",
       "       [   5,    1,    1,    0,    2,    9,  926,    0,    6,    0],\n",
       "       [   1,    2,    6,    8,    4,    0,    0,  990,    9,   12],\n",
       "       [   3,    6,    2,    7,    1,   11,    5,    0,  925,    5],\n",
       "       [   3,    0,    0,    1,    9,    6,    0,    9,    1,  941]])"
      ]
     },
     "execution_count": 26,
     "metadata": {},
     "output_type": "execute_result"
    }
   ],
   "source": [
    "confusion_matrix(predict(network, x_test), np.argmax(y_test, axis=-1))"
   ]
  },
  {
   "cell_type": "markdown",
   "metadata": {},
   "source": [
    "# More Layers"
   ]
  },
  {
   "cell_type": "code",
   "execution_count": 27,
   "metadata": {},
   "outputs": [],
   "source": [
    "network = []\n",
    "network.append(Dense(x_train.shape[1], 100, initializer='xavier'))\n",
    "network.append(ReLU())\n",
    "network.append(Dense(100, 200, initializer='xavier'))\n",
    "network.append(ReLU())\n",
    "network.append(Dense(200, 200, initializer='xavier'))\n",
    "network.append(ReLU())\n",
    "network.append(Dense(200, 100, initializer='xavier'))\n",
    "network.append(ReLU())\n",
    "network.append(Dense(100, 10, initializer='xavier'))"
   ]
  },
  {
   "cell_type": "code",
   "execution_count": 28,
   "metadata": {},
   "outputs": [
    {
     "name": "stdout",
     "output_type": "stream",
     "text": [
      "Epoch 6\n",
      "Train accuracy: 0.97972\n",
      "Val accuracy: 0.9693\n"
     ]
    },
    {
     "data": {
      "image/png": "[encoded data removed]",
      "text/plain": [
       "<Figure size 432x288 with 1 Axes>"
      ]
     },
     "metadata": {},
     "output_type": "display_data"
    }
   ],
   "source": [
    "from IPython.display import clear_output\n",
    "train_log = []\n",
    "val_log = []\n",
    "\n",
    "for epoch in range(7):\n",
    "\n",
    "    for x_batch,y_batch in iterate_minibatches(x_train,y_train,batchsize=32,shuffle=True):\n",
    "        train(network,x_batch,y_batch)\n",
    "    \n",
    "    args_y_train = np.argmax(y_train, axis=-1)\n",
    "    args_y_val = np.argmax(y_val, axis=-1)\n",
    "    train_log.append(np.mean(predict(network,x_train)==args_y_train))\n",
    "    val_log.append(np.mean(predict(network,x_val)==args_y_val))\n",
    "    \n",
    "    clear_output()\n",
    "    print(\"Epoch\",epoch)\n",
    "    print(\"Train accuracy:\",train_log[-1])\n",
    "    print(\"Val accuracy:\",val_log[-1])\n",
    "    plt.plot(train_log,label='train accuracy')\n",
    "    plt.plot(val_log,label='val accuracy')\n",
    "    plt.legend(loc='best')\n",
    "    plt.grid()\n",
    "    plt.show()"
   ]
  },
  {
   "cell_type": "code",
   "execution_count": 29,
   "metadata": {},
   "outputs": [
    {
     "data": {
      "text/plain": [
       "0.9682"
      ]
     },
     "execution_count": 29,
     "metadata": {},
     "output_type": "execute_result"
    }
   ],
   "source": [
    "accuracy_score(predict(network, x_test), np.argmax(y_test, axis=-1))"
   ]
  },
  {
   "cell_type": "code",
   "execution_count": 30,
   "metadata": {},
   "outputs": [
    {
     "data": {
      "text/plain": [
       "array([[ 966,    0,    5,    0,    1,    6,    5,    1,    5,    7],\n",
       "       [   0, 1124,    2,    2,    0,    1,    3,    8,    0,    5],\n",
       "       [   2,    4, 1009,    9,    3,    0,    3,   15,    4,    4],\n",
       "       [   1,    1,    3,  980,    0,   18,    1,    5,   15,   10],\n",
       "       [   0,    1,    2,    0,  959,    3,    6,    0,    3,   18],\n",
       "       [   3,    1,    0,    3,    0,  843,    3,    0,    5,    3],\n",
       "       [   4,    2,    3,    0,    9,   11,  933,    0,    5,    0],\n",
       "       [   3,    1,    4,    7,    3,    1,    0,  993,    8,   10],\n",
       "       [   1,    1,    3,    8,    2,    5,    4,    1,  928,    5],\n",
       "       [   0,    0,    1,    1,    5,    4,    0,    5,    1,  947]])"
      ]
     },
     "execution_count": 30,
     "metadata": {},
     "output_type": "execute_result"
    }
   ],
   "source": [
    "confusion_matrix(predict(network, x_test), np.argmax(y_test, axis=-1))"
   ]
  },
  {
   "cell_type": "markdown",
   "metadata": {},
   "source": [
    "# Usando librerías"
   ]
  },
  {
   "cell_type": "markdown",
   "metadata": {},
   "source": [
    "## Keras"
   ]
  },
  {
   "cell_type": "code",
   "execution_count": 31,
   "metadata": {},
   "outputs": [
    {
     "name": "stderr",
     "output_type": "stream",
     "text": [
      "Using TensorFlow backend.\n"
     ]
    }
   ],
   "source": [
    "from keras.layers import Dense\n",
    "from keras.models import Sequential\n",
    "from keras.optimizers import SGD"
   ]
  },
  {
   "cell_type": "code",
   "execution_count": 32,
   "metadata": {},
   "outputs": [],
   "source": [
    "model = Sequential()\n",
    "model.add(Dense(100, activation='relu'))\n",
    "model.add(Dense(200, activation='relu'))\n",
    "model.add(Dense(200, activation='relu'))\n",
    "model.add(Dense(100, activation='relu'))\n",
    "model.add(Dense(10, activation='softmax'))"
   ]
  },
  {
   "cell_type": "code",
   "execution_count": 33,
   "metadata": {},
   "outputs": [],
   "source": [
    "optimizer = SGD(lr=0.1)\n",
    "model.compile(optimizer=optimizer, loss='categorical_crossentropy', metrics=['accuracy'])"
   ]
  },
  {
   "cell_type": "code",
   "execution_count": 34,
   "metadata": {},
   "outputs": [
    {
     "name": "stdout",
     "output_type": "stream",
     "text": [
      "Train on 50000 samples, validate on 10000 samples\n",
      "Epoch 1/7\n",
      "50000/50000 [==============================] - 5s 97us/step - loss: 0.3300 - acc: 0.8976 - val_loss: 0.2145 - val_acc: 0.9355\n",
      "Epoch 2/7\n",
      "50000/50000 [==============================] - 5s 91us/step - loss: 0.1347 - acc: 0.9574 - val_loss: 0.1093 - val_acc: 0.9687\n",
      "Epoch 3/7\n",
      "50000/50000 [==============================] - 5s 91us/step - loss: 0.0939 - acc: 0.9704 - val_loss: 0.1453 - val_acc: 0.9554\n",
      "Epoch 4/7\n",
      "50000/50000 [==============================] - 5s 92us/step - loss: 0.0718 - acc: 0.9776 - val_loss: 0.1216 - val_acc: 0.9638\n",
      "Epoch 5/7\n",
      "50000/50000 [==============================] - 5s 96us/step - loss: 0.0565 - acc: 0.9818 - val_loss: 0.0975 - val_acc: 0.9729\n",
      "Epoch 6/7\n",
      "50000/50000 [==============================] - 5s 94us/step - loss: 0.0464 - acc: 0.9847 - val_loss: 0.1250 - val_acc: 0.9637\n",
      "Epoch 7/7\n",
      "50000/50000 [==============================] - 5s 95us/step - loss: 0.0394 - acc: 0.9872 - val_loss: 0.1155 - val_acc: 0.9705\n"
     ]
    },
    {
     "data": {
      "text/plain": [
       "<keras.callbacks.History at 0x7fbaf3b042e8>"
      ]
     },
     "execution_count": 34,
     "metadata": {},
     "output_type": "execute_result"
    }
   ],
   "source": [
    "model.fit(x_train, y_train, batch_size=32, epochs=7, validation_data=(x_val, y_val))"
   ]
  },
  {
   "cell_type": "code",
   "execution_count": 35,
   "metadata": {},
   "outputs": [],
   "source": [
    "preds = model.predict(x_test)"
   ]
  },
  {
   "cell_type": "code",
   "execution_count": 36,
   "metadata": {},
   "outputs": [
    {
     "data": {
      "text/plain": [
       "0.9682"
      ]
     },
     "execution_count": 36,
     "metadata": {},
     "output_type": "execute_result"
    }
   ],
   "source": [
    "accuracy_score(np.argmax(preds, axis=-1), np.argmax(y_test, axis=-1))"
   ]
  },
  {
   "cell_type": "code",
   "execution_count": 37,
   "metadata": {},
   "outputs": [
    {
     "data": {
      "text/plain": [
       "array([[ 969,    0,    3,    0,    0,    3,    4,    1,    8,    5],\n",
       "       [   1, 1124,    0,    0,    1,    0,    4,    4,    1,    2],\n",
       "       [   3,    3, 1013,    4,    2,    0,    1,   10,   18,    1],\n",
       "       [   1,    2,    4,  980,    0,    6,    2,    2,   38,    5],\n",
       "       [   0,    0,    1,    0,  948,    0,    3,    2,    2,    7],\n",
       "       [   1,    1,    2,   17,    2,  871,   10,    0,   27,    6],\n",
       "       [   2,    2,    2,    0,    4,    5,  933,    0,    5,    1],\n",
       "       [   2,    1,    6,    5,    2,    1,    0,  999,    3,    5],\n",
       "       [   1,    2,    1,    4,    2,    3,    1,    1,  869,    1],\n",
       "       [   0,    0,    0,    0,   21,    3,    0,    9,    3,  976]])"
      ]
     },
     "execution_count": 37,
     "metadata": {},
     "output_type": "execute_result"
    }
   ],
   "source": [
    "confusion_matrix(np.argmax(preds, axis=-1), np.argmax(y_test, axis=-1))"
   ]
  },
  {
   "cell_type": "markdown",
   "metadata": {},
   "source": [
    "## Pytorch"
   ]
  },
  {
   "cell_type": "code",
   "execution_count": 38,
   "metadata": {},
   "outputs": [],
   "source": [
    "import torch.nn as nn\n",
    "import torch"
   ]
  },
  {
   "cell_type": "code",
   "execution_count": 39,
   "metadata": {},
   "outputs": [],
   "source": [
    "class Net(nn.Module):\n",
    "    def __init__(self):\n",
    "        super(Net, self).__init__()\n",
    "        self.fc1 = nn.Linear(x_train.shape[1], 100)\n",
    "        self.g1 = nn.ReLU()\n",
    "        self.fc2 = nn.Linear(100, 200)\n",
    "        self.g2 = nn.ReLU()\n",
    "        self.fc3 = nn.Linear(200, 200)\n",
    "        self.g3 = nn.ReLU()\n",
    "        self.fc4 = nn.Linear(200, 100)\n",
    "        self.g4 = nn.ReLU()\n",
    "        self.fc5 = nn.Linear(100, 10)\n",
    "        #self.g5 = nn.Softmax()\n",
    "        \n",
    "    def forward(self, x):\n",
    "        out = self.fc1(x)\n",
    "        out = self.g1(out)\n",
    "        out = self.fc2(out)\n",
    "        out = self.g2(out)\n",
    "        out = self.fc3(out)\n",
    "        out = self.g3(out)\n",
    "        out = self.fc4(out)\n",
    "        out = self.g4(out)\n",
    "        out = self.fc5(out)\n",
    "        #out = sefl.g5(out)\n",
    "        \n",
    "        return out"
   ]
  },
  {
   "cell_type": "code",
   "execution_count": 40,
   "metadata": {},
   "outputs": [],
   "source": [
    "net = Net()"
   ]
  },
  {
   "cell_type": "code",
   "execution_count": 41,
   "metadata": {},
   "outputs": [],
   "source": [
    "criterio = nn.CrossEntropyLoss()\n",
    "optimizer= torch.optim.SGD(net.parameters(), lr=0.01)"
   ]
  },
  {
   "cell_type": "code",
   "execution_count": 42,
   "metadata": {},
   "outputs": [
    {
     "name": "stderr",
     "output_type": "stream",
     "text": [
      "100%|██████████| 1562/1562 [00:02<00:00, 527.93it/s]\n",
      "/home/rafael/anaconda3/envs/machine_learning/lib/python3.6/site-packages/ipykernel_launcher.py:9: UserWarning: invalid index of a 0-dim tensor. This will be an error in PyTorch 0.5. Use tensor.item() to convert a 0-dim tensor to a Python number\n",
      "  if __name__ == '__main__':\n",
      "  3%|▎         | 47/1562 [00:00<00:03, 466.83it/s]"
     ]
    },
    {
     "name": "stdout",
     "output_type": "stream",
     "text": [
      "tensor(2.0260)\n"
     ]
    },
    {
     "name": "stderr",
     "output_type": "stream",
     "text": [
      "100%|██████████| 1562/1562 [00:02<00:00, 547.51it/s]\n",
      "  3%|▎         | 47/1562 [00:00<00:03, 465.46it/s]"
     ]
    },
    {
     "name": "stdout",
     "output_type": "stream",
     "text": [
      "tensor(0.3760)\n"
     ]
    },
    {
     "name": "stderr",
     "output_type": "stream",
     "text": [
      "100%|██████████| 1562/1562 [00:03<00:00, 510.30it/s]\n",
      "  3%|▎         | 42/1562 [00:00<00:03, 411.71it/s]"
     ]
    },
    {
     "name": "stdout",
     "output_type": "stream",
     "text": [
      "tensor(0.4702)\n"
     ]
    },
    {
     "name": "stderr",
     "output_type": "stream",
     "text": [
      "100%|██████████| 1562/1562 [00:03<00:00, 504.16it/s]\n",
      "  3%|▎         | 52/1562 [00:00<00:02, 513.23it/s]"
     ]
    },
    {
     "name": "stdout",
     "output_type": "stream",
     "text": [
      "tensor(0.4353)\n"
     ]
    },
    {
     "name": "stderr",
     "output_type": "stream",
     "text": [
      "100%|██████████| 1562/1562 [00:03<00:00, 466.20it/s]\n",
      "  1%|▏         | 22/1562 [00:00<00:07, 217.70it/s]"
     ]
    },
    {
     "name": "stdout",
     "output_type": "stream",
     "text": [
      "tensor(0.0960)\n"
     ]
    },
    {
     "name": "stderr",
     "output_type": "stream",
     "text": [
      "100%|██████████| 1562/1562 [00:03<00:00, 411.33it/s]\n",
      "  3%|▎         | 47/1562 [00:00<00:03, 463.04it/s]"
     ]
    },
    {
     "name": "stdout",
     "output_type": "stream",
     "text": [
      "tensor(0.2297)\n"
     ]
    },
    {
     "name": "stderr",
     "output_type": "stream",
     "text": [
      "100%|██████████| 1562/1562 [00:03<00:00, 480.22it/s]"
     ]
    },
    {
     "name": "stdout",
     "output_type": "stream",
     "text": [
      "tensor(0.0393)\n"
     ]
    },
    {
     "name": "stderr",
     "output_type": "stream",
     "text": [
      "\n"
     ]
    }
   ],
   "source": [
    "for epoch in range(7):\n",
    "    for x_batch,y_batch in iterate_minibatches(x_train,np.argmax(y_train,axis=-1),batchsize=32,shuffle=True):\n",
    "        optimizer.zero_grad()\n",
    "        y_hat = net(torch.from_numpy(x_batch).float())\n",
    "        loss = criterio(y_hat, torch.from_numpy(y_batch).long())\n",
    "        loss.backward()\n",
    "        optimizer.step()\n",
    "        \n",
    "    print(loss.data[0])"
   ]
  },
  {
   "cell_type": "code",
   "execution_count": 43,
   "metadata": {},
   "outputs": [
    {
     "name": "stdout",
     "output_type": "stream",
     "text": [
      "torch.Size([10000, 10])\n"
     ]
    }
   ],
   "source": [
    "y_hat = net(torch.from_numpy(x_test).float())\n",
    "preds = y_hat.detach().numpy()\n",
    "print(y_hat.shape)"
   ]
  },
  {
   "cell_type": "code",
   "execution_count": 44,
   "metadata": {},
   "outputs": [
    {
     "data": {
      "text/plain": [
       "0.9518"
      ]
     },
     "execution_count": 44,
     "metadata": {},
     "output_type": "execute_result"
    }
   ],
   "source": [
    "accuracy_score(np.argmax(preds, axis=-1), np.argmax(y_test, axis=-1))"
   ]
  },
  {
   "cell_type": "code",
   "execution_count": 45,
   "metadata": {},
   "outputs": [
    {
     "data": {
      "text/plain": [
       "array([[ 961,    0,    8,    1,    1,    4,    6,    1,    2,    6],\n",
       "       [   0, 1114,    3,    0,    2,    0,    3,   11,    3,    6],\n",
       "       [   2,    2,  970,   24,    6,    0,    3,    8,    3,    1],\n",
       "       [   0,    3,   10,  947,    0,   14,    0,    7,    8,    3],\n",
       "       [   0,    0,    8,    0,  935,    2,    6,    3,    9,   19],\n",
       "       [   6,    3,    0,    8,    1,  835,   18,    1,   14,    8],\n",
       "       [   6,    1,   10,    0,    6,   12,  919,    0,    9,    0],\n",
       "       [   2,    2,    9,   16,    3,    0,    0,  981,    3,   10],\n",
       "       [   3,   10,   13,   12,    3,   18,    3,    0,  911,   11],\n",
       "       [   0,    0,    1,    2,   25,    7,    0,   16,   12,  945]])"
      ]
     },
     "execution_count": 45,
     "metadata": {},
     "output_type": "execute_result"
    }
   ],
   "source": [
    "confusion_matrix(np.argmax(preds, axis=-1), np.argmax(y_test, axis=-1))"
   ]
  }
 ],
 "metadata": {
  "kernelspec": {
   "display_name": "Python (Machine Learning)",
   "language": "python",
   "name": "machine_learning"
  },
  "language_info": {
   "codemirror_mode": {
    "name": "ipython",
    "version": 3
   },
   "file_extension": ".py",
   "mimetype": "text/x-python",
   "name": "python",
   "nbconvert_exporter": "python",
   "pygments_lexer": "ipython3",
   "version": "3.6.6"
  }
 },
 "nbformat": 4,
 "nbformat_minor": 2
}
